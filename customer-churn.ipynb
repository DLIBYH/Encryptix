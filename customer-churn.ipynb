{
 "cells": [
  {
   "cell_type": "code",
   "execution_count": 1,
   "id": "169402be",
   "metadata": {
    "_cell_guid": "b1076dfc-b9ad-4769-8c92-a6c4dae69d19",
    "_uuid": "8f2839f25d086af736a60e9eeb907d3b93b6e0e5",
    "execution": {
     "iopub.execute_input": "2024-06-27T16:53:32.810575Z",
     "iopub.status.busy": "2024-06-27T16:53:32.809475Z",
     "iopub.status.idle": "2024-06-27T16:53:33.653212Z",
     "shell.execute_reply": "2024-06-27T16:53:33.651888Z"
    },
    "papermill": {
     "duration": 0.858884,
     "end_time": "2024-06-27T16:53:33.656239",
     "exception": false,
     "start_time": "2024-06-27T16:53:32.797355",
     "status": "completed"
    },
    "tags": []
   },
   "outputs": [
    {
     "name": "stdout",
     "output_type": "stream",
     "text": [
      "/kaggle/input/bank-customer-churn-prediction/Churn_Modelling.csv\n"
     ]
    }
   ],
   "source": [
    "# This Python 3 environment comes with many helpful analytics libraries installed\n",
    "# It is defined by the kaggle/python Docker image: https://github.com/kaggle/docker-python\n",
    "# For example, here's several helpful packages to load\n",
    "\n",
    "import numpy as np # linear algebra\n",
    "import pandas as pd # data processing, CSV file I/O (e.g. pd.read_csv)\n",
    "\n",
    "# Input data files are available in the read-only \"../input/\" directory\n",
    "# For example, running this (by clicking run or pressing Shift+Enter) will list all files under the input directory\n",
    "\n",
    "import os\n",
    "for dirname, _, filenames in os.walk('/kaggle/input'):\n",
    "    for filename in filenames:\n",
    "        print(os.path.join(dirname, filename))\n",
    "\n",
    "# You can write up to 20GB to the current directory (/kaggle/working/) that gets preserved as output when you create a version using \"Save & Run All\" \n",
    "# You can also write temporary files to /kaggle/temp/, but they won't be saved outside of the current session"
   ]
  },
  {
   "cell_type": "code",
   "execution_count": 2,
   "id": "8ea173f3",
   "metadata": {
    "execution": {
     "iopub.execute_input": "2024-06-27T16:53:33.679249Z",
     "iopub.status.busy": "2024-06-27T16:53:33.678350Z",
     "iopub.status.idle": "2024-06-27T16:53:35.859656Z",
     "shell.execute_reply": "2024-06-27T16:53:35.858653Z"
    },
    "papermill": {
     "duration": 2.195012,
     "end_time": "2024-06-27T16:53:35.862462",
     "exception": false,
     "start_time": "2024-06-27T16:53:33.667450",
     "status": "completed"
    },
    "tags": []
   },
   "outputs": [],
   "source": [
    "import pandas as pd\n",
    "from nltk.corpus import stopwords\n",
    "import matplotlib.pyplot as plt\n",
    "import re\n",
    "import numpy as np\n",
    "import seaborn as sns\n",
    "import matplotlib.pyplot as plt\n",
    "from wordcloud import WordCloud, STOPWORDS"
   ]
  },
  {
   "cell_type": "code",
   "execution_count": 3,
   "id": "fe9b6e57",
   "metadata": {
    "execution": {
     "iopub.execute_input": "2024-06-27T16:53:35.885021Z",
     "iopub.status.busy": "2024-06-27T16:53:35.883971Z",
     "iopub.status.idle": "2024-06-27T16:53:35.889030Z",
     "shell.execute_reply": "2024-06-27T16:53:35.887980Z"
    },
    "papermill": {
     "duration": 0.018689,
     "end_time": "2024-06-27T16:53:35.891440",
     "exception": false,
     "start_time": "2024-06-27T16:53:35.872751",
     "status": "completed"
    },
    "tags": []
   },
   "outputs": [],
   "source": [
    "path_data = \"/kaggle/input/bank-customer-churn-prediction/Churn_Modelling.csv\""
   ]
  },
  {
   "cell_type": "code",
   "execution_count": 4,
   "id": "f117ed8b",
   "metadata": {
    "execution": {
     "iopub.execute_input": "2024-06-27T16:53:35.913839Z",
     "iopub.status.busy": "2024-06-27T16:53:35.912916Z",
     "iopub.status.idle": "2024-06-27T16:53:35.990987Z",
     "shell.execute_reply": "2024-06-27T16:53:35.989939Z"
    },
    "papermill": {
     "duration": 0.091871,
     "end_time": "2024-06-27T16:53:35.993454",
     "exception": false,
     "start_time": "2024-06-27T16:53:35.901583",
     "status": "completed"
    },
    "tags": []
   },
   "outputs": [
    {
     "data": {
      "text/html": [
       "<div>\n",
       "<style scoped>\n",
       "    .dataframe tbody tr th:only-of-type {\n",
       "        vertical-align: middle;\n",
       "    }\n",
       "\n",
       "    .dataframe tbody tr th {\n",
       "        vertical-align: top;\n",
       "    }\n",
       "\n",
       "    .dataframe thead th {\n",
       "        text-align: right;\n",
       "    }\n",
       "</style>\n",
       "<table border=\"1\" class=\"dataframe\">\n",
       "  <thead>\n",
       "    <tr style=\"text-align: right;\">\n",
       "      <th></th>\n",
       "      <th>RowNumber</th>\n",
       "      <th>CustomerId</th>\n",
       "      <th>Surname</th>\n",
       "      <th>CreditScore</th>\n",
       "      <th>Geography</th>\n",
       "      <th>Gender</th>\n",
       "      <th>Age</th>\n",
       "      <th>Tenure</th>\n",
       "      <th>Balance</th>\n",
       "      <th>NumOfProducts</th>\n",
       "      <th>HasCrCard</th>\n",
       "      <th>IsActiveMember</th>\n",
       "      <th>EstimatedSalary</th>\n",
       "      <th>Exited</th>\n",
       "    </tr>\n",
       "  </thead>\n",
       "  <tbody>\n",
       "    <tr>\n",
       "      <th>0</th>\n",
       "      <td>1</td>\n",
       "      <td>15634602</td>\n",
       "      <td>Hargrave</td>\n",
       "      <td>619</td>\n",
       "      <td>France</td>\n",
       "      <td>Female</td>\n",
       "      <td>42</td>\n",
       "      <td>2</td>\n",
       "      <td>0.00</td>\n",
       "      <td>1</td>\n",
       "      <td>1</td>\n",
       "      <td>1</td>\n",
       "      <td>101348.88</td>\n",
       "      <td>1</td>\n",
       "    </tr>\n",
       "    <tr>\n",
       "      <th>1</th>\n",
       "      <td>2</td>\n",
       "      <td>15647311</td>\n",
       "      <td>Hill</td>\n",
       "      <td>608</td>\n",
       "      <td>Spain</td>\n",
       "      <td>Female</td>\n",
       "      <td>41</td>\n",
       "      <td>1</td>\n",
       "      <td>83807.86</td>\n",
       "      <td>1</td>\n",
       "      <td>0</td>\n",
       "      <td>1</td>\n",
       "      <td>112542.58</td>\n",
       "      <td>0</td>\n",
       "    </tr>\n",
       "    <tr>\n",
       "      <th>2</th>\n",
       "      <td>3</td>\n",
       "      <td>15619304</td>\n",
       "      <td>Onio</td>\n",
       "      <td>502</td>\n",
       "      <td>France</td>\n",
       "      <td>Female</td>\n",
       "      <td>42</td>\n",
       "      <td>8</td>\n",
       "      <td>159660.80</td>\n",
       "      <td>3</td>\n",
       "      <td>1</td>\n",
       "      <td>0</td>\n",
       "      <td>113931.57</td>\n",
       "      <td>1</td>\n",
       "    </tr>\n",
       "    <tr>\n",
       "      <th>3</th>\n",
       "      <td>4</td>\n",
       "      <td>15701354</td>\n",
       "      <td>Boni</td>\n",
       "      <td>699</td>\n",
       "      <td>France</td>\n",
       "      <td>Female</td>\n",
       "      <td>39</td>\n",
       "      <td>1</td>\n",
       "      <td>0.00</td>\n",
       "      <td>2</td>\n",
       "      <td>0</td>\n",
       "      <td>0</td>\n",
       "      <td>93826.63</td>\n",
       "      <td>0</td>\n",
       "    </tr>\n",
       "    <tr>\n",
       "      <th>4</th>\n",
       "      <td>5</td>\n",
       "      <td>15737888</td>\n",
       "      <td>Mitchell</td>\n",
       "      <td>850</td>\n",
       "      <td>Spain</td>\n",
       "      <td>Female</td>\n",
       "      <td>43</td>\n",
       "      <td>2</td>\n",
       "      <td>125510.82</td>\n",
       "      <td>1</td>\n",
       "      <td>1</td>\n",
       "      <td>1</td>\n",
       "      <td>79084.10</td>\n",
       "      <td>0</td>\n",
       "    </tr>\n",
       "    <tr>\n",
       "      <th>...</th>\n",
       "      <td>...</td>\n",
       "      <td>...</td>\n",
       "      <td>...</td>\n",
       "      <td>...</td>\n",
       "      <td>...</td>\n",
       "      <td>...</td>\n",
       "      <td>...</td>\n",
       "      <td>...</td>\n",
       "      <td>...</td>\n",
       "      <td>...</td>\n",
       "      <td>...</td>\n",
       "      <td>...</td>\n",
       "      <td>...</td>\n",
       "      <td>...</td>\n",
       "    </tr>\n",
       "    <tr>\n",
       "      <th>9995</th>\n",
       "      <td>9996</td>\n",
       "      <td>15606229</td>\n",
       "      <td>Obijiaku</td>\n",
       "      <td>771</td>\n",
       "      <td>France</td>\n",
       "      <td>Male</td>\n",
       "      <td>39</td>\n",
       "      <td>5</td>\n",
       "      <td>0.00</td>\n",
       "      <td>2</td>\n",
       "      <td>1</td>\n",
       "      <td>0</td>\n",
       "      <td>96270.64</td>\n",
       "      <td>0</td>\n",
       "    </tr>\n",
       "    <tr>\n",
       "      <th>9996</th>\n",
       "      <td>9997</td>\n",
       "      <td>15569892</td>\n",
       "      <td>Johnstone</td>\n",
       "      <td>516</td>\n",
       "      <td>France</td>\n",
       "      <td>Male</td>\n",
       "      <td>35</td>\n",
       "      <td>10</td>\n",
       "      <td>57369.61</td>\n",
       "      <td>1</td>\n",
       "      <td>1</td>\n",
       "      <td>1</td>\n",
       "      <td>101699.77</td>\n",
       "      <td>0</td>\n",
       "    </tr>\n",
       "    <tr>\n",
       "      <th>9997</th>\n",
       "      <td>9998</td>\n",
       "      <td>15584532</td>\n",
       "      <td>Liu</td>\n",
       "      <td>709</td>\n",
       "      <td>France</td>\n",
       "      <td>Female</td>\n",
       "      <td>36</td>\n",
       "      <td>7</td>\n",
       "      <td>0.00</td>\n",
       "      <td>1</td>\n",
       "      <td>0</td>\n",
       "      <td>1</td>\n",
       "      <td>42085.58</td>\n",
       "      <td>1</td>\n",
       "    </tr>\n",
       "    <tr>\n",
       "      <th>9998</th>\n",
       "      <td>9999</td>\n",
       "      <td>15682355</td>\n",
       "      <td>Sabbatini</td>\n",
       "      <td>772</td>\n",
       "      <td>Germany</td>\n",
       "      <td>Male</td>\n",
       "      <td>42</td>\n",
       "      <td>3</td>\n",
       "      <td>75075.31</td>\n",
       "      <td>2</td>\n",
       "      <td>1</td>\n",
       "      <td>0</td>\n",
       "      <td>92888.52</td>\n",
       "      <td>1</td>\n",
       "    </tr>\n",
       "    <tr>\n",
       "      <th>9999</th>\n",
       "      <td>10000</td>\n",
       "      <td>15628319</td>\n",
       "      <td>Walker</td>\n",
       "      <td>792</td>\n",
       "      <td>France</td>\n",
       "      <td>Female</td>\n",
       "      <td>28</td>\n",
       "      <td>4</td>\n",
       "      <td>130142.79</td>\n",
       "      <td>1</td>\n",
       "      <td>1</td>\n",
       "      <td>0</td>\n",
       "      <td>38190.78</td>\n",
       "      <td>0</td>\n",
       "    </tr>\n",
       "  </tbody>\n",
       "</table>\n",
       "<p>10000 rows × 14 columns</p>\n",
       "</div>"
      ],
      "text/plain": [
       "      RowNumber  CustomerId    Surname  CreditScore Geography  Gender  Age  \\\n",
       "0             1    15634602   Hargrave          619    France  Female   42   \n",
       "1             2    15647311       Hill          608     Spain  Female   41   \n",
       "2             3    15619304       Onio          502    France  Female   42   \n",
       "3             4    15701354       Boni          699    France  Female   39   \n",
       "4             5    15737888   Mitchell          850     Spain  Female   43   \n",
       "...         ...         ...        ...          ...       ...     ...  ...   \n",
       "9995       9996    15606229   Obijiaku          771    France    Male   39   \n",
       "9996       9997    15569892  Johnstone          516    France    Male   35   \n",
       "9997       9998    15584532        Liu          709    France  Female   36   \n",
       "9998       9999    15682355  Sabbatini          772   Germany    Male   42   \n",
       "9999      10000    15628319     Walker          792    France  Female   28   \n",
       "\n",
       "      Tenure    Balance  NumOfProducts  HasCrCard  IsActiveMember  \\\n",
       "0          2       0.00              1          1               1   \n",
       "1          1   83807.86              1          0               1   \n",
       "2          8  159660.80              3          1               0   \n",
       "3          1       0.00              2          0               0   \n",
       "4          2  125510.82              1          1               1   \n",
       "...      ...        ...            ...        ...             ...   \n",
       "9995       5       0.00              2          1               0   \n",
       "9996      10   57369.61              1          1               1   \n",
       "9997       7       0.00              1          0               1   \n",
       "9998       3   75075.31              2          1               0   \n",
       "9999       4  130142.79              1          1               0   \n",
       "\n",
       "      EstimatedSalary  Exited  \n",
       "0           101348.88       1  \n",
       "1           112542.58       0  \n",
       "2           113931.57       1  \n",
       "3            93826.63       0  \n",
       "4            79084.10       0  \n",
       "...               ...     ...  \n",
       "9995         96270.64       0  \n",
       "9996        101699.77       0  \n",
       "9997         42085.58       1  \n",
       "9998         92888.52       1  \n",
       "9999         38190.78       0  \n",
       "\n",
       "[10000 rows x 14 columns]"
      ]
     },
     "execution_count": 4,
     "metadata": {},
     "output_type": "execute_result"
    }
   ],
   "source": [
    "df = pd.read_csv(path_data)\n",
    "df"
   ]
  },
  {
   "cell_type": "code",
   "execution_count": 5,
   "id": "ba9c75fa",
   "metadata": {
    "execution": {
     "iopub.execute_input": "2024-06-27T16:53:36.015634Z",
     "iopub.status.busy": "2024-06-27T16:53:36.015220Z",
     "iopub.status.idle": "2024-06-27T16:53:36.037741Z",
     "shell.execute_reply": "2024-06-27T16:53:36.036723Z"
    },
    "papermill": {
     "duration": 0.03663,
     "end_time": "2024-06-27T16:53:36.040446",
     "exception": false,
     "start_time": "2024-06-27T16:53:36.003816",
     "status": "completed"
    },
    "tags": []
   },
   "outputs": [
    {
     "name": "stdout",
     "output_type": "stream",
     "text": [
      "<class 'pandas.core.frame.DataFrame'>\n",
      "RangeIndex: 10000 entries, 0 to 9999\n",
      "Data columns (total 14 columns):\n",
      " #   Column           Non-Null Count  Dtype  \n",
      "---  ------           --------------  -----  \n",
      " 0   RowNumber        10000 non-null  int64  \n",
      " 1   CustomerId       10000 non-null  int64  \n",
      " 2   Surname          10000 non-null  object \n",
      " 3   CreditScore      10000 non-null  int64  \n",
      " 4   Geography        10000 non-null  object \n",
      " 5   Gender           10000 non-null  object \n",
      " 6   Age              10000 non-null  int64  \n",
      " 7   Tenure           10000 non-null  int64  \n",
      " 8   Balance          10000 non-null  float64\n",
      " 9   NumOfProducts    10000 non-null  int64  \n",
      " 10  HasCrCard        10000 non-null  int64  \n",
      " 11  IsActiveMember   10000 non-null  int64  \n",
      " 12  EstimatedSalary  10000 non-null  float64\n",
      " 13  Exited           10000 non-null  int64  \n",
      "dtypes: float64(2), int64(9), object(3)\n",
      "memory usage: 1.1+ MB\n"
     ]
    }
   ],
   "source": [
    "df.info()"
   ]
  },
  {
   "cell_type": "code",
   "execution_count": 6,
   "id": "9301d31e",
   "metadata": {
    "execution": {
     "iopub.execute_input": "2024-06-27T16:53:36.063418Z",
     "iopub.status.busy": "2024-06-27T16:53:36.062408Z",
     "iopub.status.idle": "2024-06-27T16:53:36.077580Z",
     "shell.execute_reply": "2024-06-27T16:53:36.076138Z"
    },
    "papermill": {
     "duration": 0.029236,
     "end_time": "2024-06-27T16:53:36.079990",
     "exception": false,
     "start_time": "2024-06-27T16:53:36.050754",
     "status": "completed"
    },
    "tags": []
   },
   "outputs": [
    {
     "name": "stdout",
     "output_type": "stream",
     "text": [
      "Number of duplicate entries:  0\n"
     ]
    }
   ],
   "source": [
    "duplicated_count = df.duplicated().sum()\n",
    "print(\"Number of duplicate entries: \", duplicated_count)"
   ]
  },
  {
   "cell_type": "markdown",
   "id": "1ddebc29",
   "metadata": {
    "papermill": {
     "duration": 0.010141,
     "end_time": "2024-06-27T16:53:36.100854",
     "exception": false,
     "start_time": "2024-06-27T16:53:36.090713",
     "status": "completed"
    },
    "tags": []
   },
   "source": [
    "EDA"
   ]
  },
  {
   "cell_type": "code",
   "execution_count": 7,
   "id": "a67991b8",
   "metadata": {
    "execution": {
     "iopub.execute_input": "2024-06-27T16:53:36.124127Z",
     "iopub.status.busy": "2024-06-27T16:53:36.123669Z",
     "iopub.status.idle": "2024-06-27T16:53:36.392545Z",
     "shell.execute_reply": "2024-06-27T16:53:36.391422Z"
    },
    "papermill": {
     "duration": 0.283329,
     "end_time": "2024-06-27T16:53:36.394988",
     "exception": false,
     "start_time": "2024-06-27T16:53:36.111659",
     "status": "completed"
    },
    "tags": []
   },
   "outputs": [
    {
     "data": {
      "text/plain": [
       "<Axes: xlabel='Gender'>"
      ]
     },
     "execution_count": 7,
     "metadata": {},
     "output_type": "execute_result"
    },
    {
     "data": {
      "image/png": "[encoded data removed]",
      "text/plain": [
       "<Figure size 640x480 with 1 Axes>"
      ]
     },
     "metadata": {},
     "output_type": "display_data"
    }
   ],
   "source": [
    "# Count occurrences of each 'Gender'\n",
    "gender_counts = df['Gender'].value_counts()\n",
    "gender_counts.plot(kind='bar')"
   ]
  },
  {
   "cell_type": "code",
   "execution_count": 8,
   "id": "39215410",
   "metadata": {
    "execution": {
     "iopub.execute_input": "2024-06-27T16:53:36.419616Z",
     "iopub.status.busy": "2024-06-27T16:53:36.418817Z",
     "iopub.status.idle": "2024-06-27T16:53:36.426957Z",
     "shell.execute_reply": "2024-06-27T16:53:36.425871Z"
    },
    "papermill": {
     "duration": 0.022997,
     "end_time": "2024-06-27T16:53:36.429312",
     "exception": false,
     "start_time": "2024-06-27T16:53:36.406315",
     "status": "completed"
    },
    "tags": []
   },
   "outputs": [
    {
     "data": {
      "text/plain": [
       "Gender\n",
       "Male      5457\n",
       "Female    4543\n",
       "Name: count, dtype: int64"
      ]
     },
     "execution_count": 8,
     "metadata": {},
     "output_type": "execute_result"
    }
   ],
   "source": [
    "gender_counts"
   ]
  },
  {
   "cell_type": "code",
   "execution_count": 9,
   "id": "6e99b726",
   "metadata": {
    "execution": {
     "iopub.execute_input": "2024-06-27T16:53:36.453597Z",
     "iopub.status.busy": "2024-06-27T16:53:36.453214Z",
     "iopub.status.idle": "2024-06-27T16:53:36.613843Z",
     "shell.execute_reply": "2024-06-27T16:53:36.612066Z"
    },
    "papermill": {
     "duration": 0.179493,
     "end_time": "2024-06-27T16:53:36.620099",
     "exception": false,
     "start_time": "2024-06-27T16:53:36.440606",
     "status": "completed"
    },
    "tags": []
   },
   "outputs": [
    {
     "data": {
      "text/plain": [
       "<Axes: ylabel='count'>"
      ]
     },
     "execution_count": 9,
     "metadata": {},
     "output_type": "execute_result"
    },
    {
     "data": {
      "image/png": "[encoded data removed]",
      "text/plain": [
       "<Figure size 640x480 with 1 Axes>"
      ]
     },
     "metadata": {},
     "output_type": "display_data"
    }
   ],
   "source": [
    "# Count occurrences of each 'Geography'\n",
    "geography_counts = df['Geography'].value_counts()\n",
    "geography_counts.plot.pie(autopct='%1.1f%%', legend=False)"
   ]
  },
  {
   "cell_type": "code",
   "execution_count": 10,
   "id": "13c0aadb",
   "metadata": {
    "execution": {
     "iopub.execute_input": "2024-06-27T16:53:36.676001Z",
     "iopub.status.busy": "2024-06-27T16:53:36.674474Z",
     "iopub.status.idle": "2024-06-27T16:53:36.683236Z",
     "shell.execute_reply": "2024-06-27T16:53:36.682212Z"
    },
    "papermill": {
     "duration": 0.038943,
     "end_time": "2024-06-27T16:53:36.685752",
     "exception": false,
     "start_time": "2024-06-27T16:53:36.646809",
     "status": "completed"
    },
    "tags": []
   },
   "outputs": [
    {
     "data": {
      "text/plain": [
       "Geography\n",
       "France     5014\n",
       "Germany    2509\n",
       "Spain      2477\n",
       "Name: count, dtype: int64"
      ]
     },
     "execution_count": 10,
     "metadata": {},
     "output_type": "execute_result"
    }
   ],
   "source": [
    "geography_counts"
   ]
  },
  {
   "cell_type": "code",
   "execution_count": 11,
   "id": "ad76e56b",
   "metadata": {
    "execution": {
     "iopub.execute_input": "2024-06-27T16:53:36.711472Z",
     "iopub.status.busy": "2024-06-27T16:53:36.711015Z",
     "iopub.status.idle": "2024-06-27T16:53:36.716886Z",
     "shell.execute_reply": "2024-06-27T16:53:36.715934Z"
    },
    "papermill": {
     "duration": 0.021971,
     "end_time": "2024-06-27T16:53:36.719544",
     "exception": false,
     "start_time": "2024-06-27T16:53:36.697573",
     "status": "completed"
    },
    "tags": []
   },
   "outputs": [
    {
     "name": "stdout",
     "output_type": "stream",
     "text": [
      "Index(['RowNumber', 'CustomerId', 'Surname', 'CreditScore', 'Geography',\n",
      "       'Gender', 'Age', 'Tenure', 'Balance', 'NumOfProducts', 'HasCrCard',\n",
      "       'IsActiveMember', 'EstimatedSalary', 'Exited'],\n",
      "      dtype='object')\n"
     ]
    }
   ],
   "source": [
    "print(df.columns)"
   ]
  },
  {
   "cell_type": "code",
   "execution_count": 12,
   "id": "20bac3e2",
   "metadata": {
    "execution": {
     "iopub.execute_input": "2024-06-27T16:53:36.745007Z",
     "iopub.status.busy": "2024-06-27T16:53:36.744614Z",
     "iopub.status.idle": "2024-06-27T16:53:36.753261Z",
     "shell.execute_reply": "2024-06-27T16:53:36.752074Z"
    },
    "papermill": {
     "duration": 0.024321,
     "end_time": "2024-06-27T16:53:36.755658",
     "exception": false,
     "start_time": "2024-06-27T16:53:36.731337",
     "status": "completed"
    },
    "tags": []
   },
   "outputs": [],
   "source": [
    "df.drop(columns=['RowNumber', 'CustomerId', 'Surname'], inplace=True)"
   ]
  },
  {
   "cell_type": "code",
   "execution_count": 13,
   "id": "a98e0934",
   "metadata": {
    "execution": {
     "iopub.execute_input": "2024-06-27T16:53:36.782227Z",
     "iopub.status.busy": "2024-06-27T16:53:36.781449Z",
     "iopub.status.idle": "2024-06-27T16:53:36.797687Z",
     "shell.execute_reply": "2024-06-27T16:53:36.796601Z"
    },
    "papermill": {
     "duration": 0.032239,
     "end_time": "2024-06-27T16:53:36.800021",
     "exception": false,
     "start_time": "2024-06-27T16:53:36.767782",
     "status": "completed"
    },
    "tags": []
   },
   "outputs": [
    {
     "data": {
      "text/html": [
       "<div>\n",
       "<style scoped>\n",
       "    .dataframe tbody tr th:only-of-type {\n",
       "        vertical-align: middle;\n",
       "    }\n",
       "\n",
       "    .dataframe tbody tr th {\n",
       "        vertical-align: top;\n",
       "    }\n",
       "\n",
       "    .dataframe thead th {\n",
       "        text-align: right;\n",
       "    }\n",
       "</style>\n",
       "<table border=\"1\" class=\"dataframe\">\n",
       "  <thead>\n",
       "    <tr style=\"text-align: right;\">\n",
       "      <th></th>\n",
       "      <th>CreditScore</th>\n",
       "      <th>Geography</th>\n",
       "      <th>Gender</th>\n",
       "      <th>Age</th>\n",
       "      <th>Tenure</th>\n",
       "      <th>Balance</th>\n",
       "      <th>NumOfProducts</th>\n",
       "      <th>HasCrCard</th>\n",
       "      <th>IsActiveMember</th>\n",
       "      <th>EstimatedSalary</th>\n",
       "      <th>Exited</th>\n",
       "    </tr>\n",
       "  </thead>\n",
       "  <tbody>\n",
       "    <tr>\n",
       "      <th>0</th>\n",
       "      <td>619</td>\n",
       "      <td>France</td>\n",
       "      <td>Female</td>\n",
       "      <td>42</td>\n",
       "      <td>2</td>\n",
       "      <td>0.00</td>\n",
       "      <td>1</td>\n",
       "      <td>1</td>\n",
       "      <td>1</td>\n",
       "      <td>101348.88</td>\n",
       "      <td>1</td>\n",
       "    </tr>\n",
       "    <tr>\n",
       "      <th>1</th>\n",
       "      <td>608</td>\n",
       "      <td>Spain</td>\n",
       "      <td>Female</td>\n",
       "      <td>41</td>\n",
       "      <td>1</td>\n",
       "      <td>83807.86</td>\n",
       "      <td>1</td>\n",
       "      <td>0</td>\n",
       "      <td>1</td>\n",
       "      <td>112542.58</td>\n",
       "      <td>0</td>\n",
       "    </tr>\n",
       "    <tr>\n",
       "      <th>2</th>\n",
       "      <td>502</td>\n",
       "      <td>France</td>\n",
       "      <td>Female</td>\n",
       "      <td>42</td>\n",
       "      <td>8</td>\n",
       "      <td>159660.80</td>\n",
       "      <td>3</td>\n",
       "      <td>1</td>\n",
       "      <td>0</td>\n",
       "      <td>113931.57</td>\n",
       "      <td>1</td>\n",
       "    </tr>\n",
       "    <tr>\n",
       "      <th>3</th>\n",
       "      <td>699</td>\n",
       "      <td>France</td>\n",
       "      <td>Female</td>\n",
       "      <td>39</td>\n",
       "      <td>1</td>\n",
       "      <td>0.00</td>\n",
       "      <td>2</td>\n",
       "      <td>0</td>\n",
       "      <td>0</td>\n",
       "      <td>93826.63</td>\n",
       "      <td>0</td>\n",
       "    </tr>\n",
       "    <tr>\n",
       "      <th>4</th>\n",
       "      <td>850</td>\n",
       "      <td>Spain</td>\n",
       "      <td>Female</td>\n",
       "      <td>43</td>\n",
       "      <td>2</td>\n",
       "      <td>125510.82</td>\n",
       "      <td>1</td>\n",
       "      <td>1</td>\n",
       "      <td>1</td>\n",
       "      <td>79084.10</td>\n",
       "      <td>0</td>\n",
       "    </tr>\n",
       "  </tbody>\n",
       "</table>\n",
       "</div>"
      ],
      "text/plain": [
       "   CreditScore Geography  Gender  Age  Tenure    Balance  NumOfProducts  \\\n",
       "0          619    France  Female   42       2       0.00              1   \n",
       "1          608     Spain  Female   41       1   83807.86              1   \n",
       "2          502    France  Female   42       8  159660.80              3   \n",
       "3          699    France  Female   39       1       0.00              2   \n",
       "4          850     Spain  Female   43       2  125510.82              1   \n",
       "\n",
       "   HasCrCard  IsActiveMember  EstimatedSalary  Exited  \n",
       "0          1               1        101348.88       1  \n",
       "1          0               1        112542.58       0  \n",
       "2          1               0        113931.57       1  \n",
       "3          0               0         93826.63       0  \n",
       "4          1               1         79084.10       0  "
      ]
     },
     "execution_count": 13,
     "metadata": {},
     "output_type": "execute_result"
    }
   ],
   "source": [
    "df.head()"
   ]
  },
  {
   "cell_type": "code",
   "execution_count": 14,
   "id": "0f8c0dc6",
   "metadata": {
    "execution": {
     "iopub.execute_input": "2024-06-27T16:53:36.826438Z",
     "iopub.status.busy": "2024-06-27T16:53:36.826025Z",
     "iopub.status.idle": "2024-06-27T16:53:36.840232Z",
     "shell.execute_reply": "2024-06-27T16:53:36.838870Z"
    },
    "papermill": {
     "duration": 0.030273,
     "end_time": "2024-06-27T16:53:36.842445",
     "exception": false,
     "start_time": "2024-06-27T16:53:36.812172",
     "status": "completed"
    },
    "tags": []
   },
   "outputs": [
    {
     "name": "stdout",
     "output_type": "stream",
     "text": [
      "<class 'pandas.core.frame.DataFrame'>\n",
      "RangeIndex: 10000 entries, 0 to 9999\n",
      "Data columns (total 11 columns):\n",
      " #   Column           Non-Null Count  Dtype  \n",
      "---  ------           --------------  -----  \n",
      " 0   CreditScore      10000 non-null  int64  \n",
      " 1   Geography        10000 non-null  object \n",
      " 2   Gender           10000 non-null  object \n",
      " 3   Age              10000 non-null  int64  \n",
      " 4   Tenure           10000 non-null  int64  \n",
      " 5   Balance          10000 non-null  float64\n",
      " 6   NumOfProducts    10000 non-null  int64  \n",
      " 7   HasCrCard        10000 non-null  int64  \n",
      " 8   IsActiveMember   10000 non-null  int64  \n",
      " 9   EstimatedSalary  10000 non-null  float64\n",
      " 10  Exited           10000 non-null  int64  \n",
      "dtypes: float64(2), int64(7), object(2)\n",
      "memory usage: 859.5+ KB\n"
     ]
    }
   ],
   "source": [
    "df.info()"
   ]
  },
  {
   "cell_type": "code",
   "execution_count": 15,
   "id": "acb41e32",
   "metadata": {
    "execution": {
     "iopub.execute_input": "2024-06-27T16:53:36.869262Z",
     "iopub.status.busy": "2024-06-27T16:53:36.868531Z",
     "iopub.status.idle": "2024-06-27T16:53:36.873345Z",
     "shell.execute_reply": "2024-06-27T16:53:36.872283Z"
    },
    "papermill": {
     "duration": 0.020787,
     "end_time": "2024-06-27T16:53:36.875531",
     "exception": false,
     "start_time": "2024-06-27T16:53:36.854744",
     "status": "completed"
    },
    "tags": []
   },
   "outputs": [],
   "source": [
    "from sklearn.preprocessing import LabelEncoder"
   ]
  },
  {
   "cell_type": "code",
   "execution_count": 16,
   "id": "45fbbfa3",
   "metadata": {
    "execution": {
     "iopub.execute_input": "2024-06-27T16:53:36.901761Z",
     "iopub.status.busy": "2024-06-27T16:53:36.901398Z",
     "iopub.status.idle": "2024-06-27T16:53:36.913407Z",
     "shell.execute_reply": "2024-06-27T16:53:36.912319Z"
    },
    "papermill": {
     "duration": 0.027765,
     "end_time": "2024-06-27T16:53:36.915582",
     "exception": false,
     "start_time": "2024-06-27T16:53:36.887817",
     "status": "completed"
    },
    "tags": []
   },
   "outputs": [],
   "source": [
    "le = LabelEncoder()\n",
    "# Fit and transform the data\n",
    "df['Gender'] = le.fit_transform(df['Gender'])\n",
    "df['Geography'] = le.fit_transform(df['Geography'])"
   ]
  },
  {
   "cell_type": "code",
   "execution_count": 17,
   "id": "5f0305ad",
   "metadata": {
    "execution": {
     "iopub.execute_input": "2024-06-27T16:53:36.942372Z",
     "iopub.status.busy": "2024-06-27T16:53:36.941484Z",
     "iopub.status.idle": "2024-06-27T16:53:36.959975Z",
     "shell.execute_reply": "2024-06-27T16:53:36.958822Z"
    },
    "papermill": {
     "duration": 0.034513,
     "end_time": "2024-06-27T16:53:36.962294",
     "exception": false,
     "start_time": "2024-06-27T16:53:36.927781",
     "status": "completed"
    },
    "tags": []
   },
   "outputs": [
    {
     "data": {
      "text/html": [
       "<div>\n",
       "<style scoped>\n",
       "    .dataframe tbody tr th:only-of-type {\n",
       "        vertical-align: middle;\n",
       "    }\n",
       "\n",
       "    .dataframe tbody tr th {\n",
       "        vertical-align: top;\n",
       "    }\n",
       "\n",
       "    .dataframe thead th {\n",
       "        text-align: right;\n",
       "    }\n",
       "</style>\n",
       "<table border=\"1\" class=\"dataframe\">\n",
       "  <thead>\n",
       "    <tr style=\"text-align: right;\">\n",
       "      <th></th>\n",
       "      <th>CreditScore</th>\n",
       "      <th>Geography</th>\n",
       "      <th>Gender</th>\n",
       "      <th>Age</th>\n",
       "      <th>Tenure</th>\n",
       "      <th>Balance</th>\n",
       "      <th>NumOfProducts</th>\n",
       "      <th>HasCrCard</th>\n",
       "      <th>IsActiveMember</th>\n",
       "      <th>EstimatedSalary</th>\n",
       "      <th>Exited</th>\n",
       "    </tr>\n",
       "  </thead>\n",
       "  <tbody>\n",
       "    <tr>\n",
       "      <th>0</th>\n",
       "      <td>619</td>\n",
       "      <td>0</td>\n",
       "      <td>0</td>\n",
       "      <td>42</td>\n",
       "      <td>2</td>\n",
       "      <td>0.00</td>\n",
       "      <td>1</td>\n",
       "      <td>1</td>\n",
       "      <td>1</td>\n",
       "      <td>101348.88</td>\n",
       "      <td>1</td>\n",
       "    </tr>\n",
       "    <tr>\n",
       "      <th>1</th>\n",
       "      <td>608</td>\n",
       "      <td>2</td>\n",
       "      <td>0</td>\n",
       "      <td>41</td>\n",
       "      <td>1</td>\n",
       "      <td>83807.86</td>\n",
       "      <td>1</td>\n",
       "      <td>0</td>\n",
       "      <td>1</td>\n",
       "      <td>112542.58</td>\n",
       "      <td>0</td>\n",
       "    </tr>\n",
       "    <tr>\n",
       "      <th>2</th>\n",
       "      <td>502</td>\n",
       "      <td>0</td>\n",
       "      <td>0</td>\n",
       "      <td>42</td>\n",
       "      <td>8</td>\n",
       "      <td>159660.80</td>\n",
       "      <td>3</td>\n",
       "      <td>1</td>\n",
       "      <td>0</td>\n",
       "      <td>113931.57</td>\n",
       "      <td>1</td>\n",
       "    </tr>\n",
       "    <tr>\n",
       "      <th>3</th>\n",
       "      <td>699</td>\n",
       "      <td>0</td>\n",
       "      <td>0</td>\n",
       "      <td>39</td>\n",
       "      <td>1</td>\n",
       "      <td>0.00</td>\n",
       "      <td>2</td>\n",
       "      <td>0</td>\n",
       "      <td>0</td>\n",
       "      <td>93826.63</td>\n",
       "      <td>0</td>\n",
       "    </tr>\n",
       "    <tr>\n",
       "      <th>4</th>\n",
       "      <td>850</td>\n",
       "      <td>2</td>\n",
       "      <td>0</td>\n",
       "      <td>43</td>\n",
       "      <td>2</td>\n",
       "      <td>125510.82</td>\n",
       "      <td>1</td>\n",
       "      <td>1</td>\n",
       "      <td>1</td>\n",
       "      <td>79084.10</td>\n",
       "      <td>0</td>\n",
       "    </tr>\n",
       "    <tr>\n",
       "      <th>...</th>\n",
       "      <td>...</td>\n",
       "      <td>...</td>\n",
       "      <td>...</td>\n",
       "      <td>...</td>\n",
       "      <td>...</td>\n",
       "      <td>...</td>\n",
       "      <td>...</td>\n",
       "      <td>...</td>\n",
       "      <td>...</td>\n",
       "      <td>...</td>\n",
       "      <td>...</td>\n",
       "    </tr>\n",
       "    <tr>\n",
       "      <th>9995</th>\n",
       "      <td>771</td>\n",
       "      <td>0</td>\n",
       "      <td>1</td>\n",
       "      <td>39</td>\n",
       "      <td>5</td>\n",
       "      <td>0.00</td>\n",
       "      <td>2</td>\n",
       "      <td>1</td>\n",
       "      <td>0</td>\n",
       "      <td>96270.64</td>\n",
       "      <td>0</td>\n",
       "    </tr>\n",
       "    <tr>\n",
       "      <th>9996</th>\n",
       "      <td>516</td>\n",
       "      <td>0</td>\n",
       "      <td>1</td>\n",
       "      <td>35</td>\n",
       "      <td>10</td>\n",
       "      <td>57369.61</td>\n",
       "      <td>1</td>\n",
       "      <td>1</td>\n",
       "      <td>1</td>\n",
       "      <td>101699.77</td>\n",
       "      <td>0</td>\n",
       "    </tr>\n",
       "    <tr>\n",
       "      <th>9997</th>\n",
       "      <td>709</td>\n",
       "      <td>0</td>\n",
       "      <td>0</td>\n",
       "      <td>36</td>\n",
       "      <td>7</td>\n",
       "      <td>0.00</td>\n",
       "      <td>1</td>\n",
       "      <td>0</td>\n",
       "      <td>1</td>\n",
       "      <td>42085.58</td>\n",
       "      <td>1</td>\n",
       "    </tr>\n",
       "    <tr>\n",
       "      <th>9998</th>\n",
       "      <td>772</td>\n",
       "      <td>1</td>\n",
       "      <td>1</td>\n",
       "      <td>42</td>\n",
       "      <td>3</td>\n",
       "      <td>75075.31</td>\n",
       "      <td>2</td>\n",
       "      <td>1</td>\n",
       "      <td>0</td>\n",
       "      <td>92888.52</td>\n",
       "      <td>1</td>\n",
       "    </tr>\n",
       "    <tr>\n",
       "      <th>9999</th>\n",
       "      <td>792</td>\n",
       "      <td>0</td>\n",
       "      <td>0</td>\n",
       "      <td>28</td>\n",
       "      <td>4</td>\n",
       "      <td>130142.79</td>\n",
       "      <td>1</td>\n",
       "      <td>1</td>\n",
       "      <td>0</td>\n",
       "      <td>38190.78</td>\n",
       "      <td>0</td>\n",
       "    </tr>\n",
       "  </tbody>\n",
       "</table>\n",
       "<p>10000 rows × 11 columns</p>\n",
       "</div>"
      ],
      "text/plain": [
       "      CreditScore  Geography  Gender  Age  Tenure    Balance  NumOfProducts  \\\n",
       "0             619          0       0   42       2       0.00              1   \n",
       "1             608          2       0   41       1   83807.86              1   \n",
       "2             502          0       0   42       8  159660.80              3   \n",
       "3             699          0       0   39       1       0.00              2   \n",
       "4             850          2       0   43       2  125510.82              1   \n",
       "...           ...        ...     ...  ...     ...        ...            ...   \n",
       "9995          771          0       1   39       5       0.00              2   \n",
       "9996          516          0       1   35      10   57369.61              1   \n",
       "9997          709          0       0   36       7       0.00              1   \n",
       "9998          772          1       1   42       3   75075.31              2   \n",
       "9999          792          0       0   28       4  130142.79              1   \n",
       "\n",
       "      HasCrCard  IsActiveMember  EstimatedSalary  Exited  \n",
       "0             1               1        101348.88       1  \n",
       "1             0               1        112542.58       0  \n",
       "2             1               0        113931.57       1  \n",
       "3             0               0         93826.63       0  \n",
       "4             1               1         79084.10       0  \n",
       "...         ...             ...              ...     ...  \n",
       "9995          1               0         96270.64       0  \n",
       "9996          1               1        101699.77       0  \n",
       "9997          0               1         42085.58       1  \n",
       "9998          1               0         92888.52       1  \n",
       "9999          1               0         38190.78       0  \n",
       "\n",
       "[10000 rows x 11 columns]"
      ]
     },
     "execution_count": 17,
     "metadata": {},
     "output_type": "execute_result"
    }
   ],
   "source": [
    "df"
   ]
  },
  {
   "cell_type": "code",
   "execution_count": 18,
   "id": "5e850af8",
   "metadata": {
    "execution": {
     "iopub.execute_input": "2024-06-27T16:53:36.990264Z",
     "iopub.status.busy": "2024-06-27T16:53:36.989822Z",
     "iopub.status.idle": "2024-06-27T16:53:36.999870Z",
     "shell.execute_reply": "2024-06-27T16:53:36.998829Z"
    },
    "papermill": {
     "duration": 0.026346,
     "end_time": "2024-06-27T16:53:37.002085",
     "exception": false,
     "start_time": "2024-06-27T16:53:36.975739",
     "status": "completed"
    },
    "tags": []
   },
   "outputs": [
    {
     "data": {
      "text/plain": [
       "Exited\n",
       "0    7963\n",
       "1    2037\n",
       "Name: count, dtype: int64"
      ]
     },
     "execution_count": 18,
     "metadata": {},
     "output_type": "execute_result"
    }
   ],
   "source": [
    "Exited = df[\"Exited\"].value_counts()\n",
    "Exited"
   ]
  },
  {
   "cell_type": "code",
   "execution_count": 19,
   "id": "3a19eac6",
   "metadata": {
    "execution": {
     "iopub.execute_input": "2024-06-27T16:53:37.029092Z",
     "iopub.status.busy": "2024-06-27T16:53:37.028701Z",
     "iopub.status.idle": "2024-06-27T16:53:37.167470Z",
     "shell.execute_reply": "2024-06-27T16:53:37.165662Z"
    },
    "papermill": {
     "duration": 0.159403,
     "end_time": "2024-06-27T16:53:37.174105",
     "exception": false,
     "start_time": "2024-06-27T16:53:37.014702",
     "status": "completed"
    },
    "tags": []
   },
   "outputs": [
    {
     "data": {
      "text/plain": [
       "<Axes: ylabel='count'>"
      ]
     },
     "execution_count": 19,
     "metadata": {},
     "output_type": "execute_result"
    },
    {
     "data": {
      "image/png": "[encoded data removed]",
      "text/plain": [
       "<Figure size 640x480 with 1 Axes>"
      ]
     },
     "metadata": {},
     "output_type": "display_data"
    }
   ],
   "source": [
    "Exited.plot.pie(autopct='%1.1f%%', legend=False)"
   ]
  },
  {
   "cell_type": "markdown",
   "id": "e25e5fd7",
   "metadata": {
    "papermill": {
     "duration": 0.027561,
     "end_time": "2024-06-27T16:53:37.229921",
     "exception": false,
     "start_time": "2024-06-27T16:53:37.202360",
     "status": "completed"
    },
    "tags": []
   },
   "source": [
    "Train Test Split"
   ]
  },
  {
   "cell_type": "code",
   "execution_count": 20,
   "id": "63573ae4",
   "metadata": {
    "execution": {
     "iopub.execute_input": "2024-06-27T16:53:37.262729Z",
     "iopub.status.busy": "2024-06-27T16:53:37.262342Z",
     "iopub.status.idle": "2024-06-27T16:53:37.267388Z",
     "shell.execute_reply": "2024-06-27T16:53:37.266312Z"
    },
    "papermill": {
     "duration": 0.021778,
     "end_time": "2024-06-27T16:53:37.269634",
     "exception": false,
     "start_time": "2024-06-27T16:53:37.247856",
     "status": "completed"
    },
    "tags": []
   },
   "outputs": [],
   "source": [
    "from sklearn.model_selection import train_test_split"
   ]
  },
  {
   "cell_type": "code",
   "execution_count": 21,
   "id": "45c18686",
   "metadata": {
    "execution": {
     "iopub.execute_input": "2024-06-27T16:53:37.298871Z",
     "iopub.status.busy": "2024-06-27T16:53:37.297955Z",
     "iopub.status.idle": "2024-06-27T16:53:37.307966Z",
     "shell.execute_reply": "2024-06-27T16:53:37.307062Z"
    },
    "papermill": {
     "duration": 0.027643,
     "end_time": "2024-06-27T16:53:37.310899",
     "exception": false,
     "start_time": "2024-06-27T16:53:37.283256",
     "status": "completed"
    },
    "tags": []
   },
   "outputs": [],
   "source": [
    "X_train, X_test, y_train, y_test =train_test_split(df.drop('Exited',axis=1),df['Exited'],test_size=0.3)"
   ]
  },
  {
   "cell_type": "markdown",
   "id": "c86e01a9",
   "metadata": {
    "papermill": {
     "duration": 0.01307,
     "end_time": "2024-06-27T16:53:37.337724",
     "exception": false,
     "start_time": "2024-06-27T16:53:37.324654",
     "status": "completed"
    },
    "tags": []
   },
   "source": [
    "Data Scaling"
   ]
  },
  {
   "cell_type": "code",
   "execution_count": 22,
   "id": "f1865863",
   "metadata": {
    "execution": {
     "iopub.execute_input": "2024-06-27T16:53:37.367587Z",
     "iopub.status.busy": "2024-06-27T16:53:37.366512Z",
     "iopub.status.idle": "2024-06-27T16:53:37.371574Z",
     "shell.execute_reply": "2024-06-27T16:53:37.370537Z"
    },
    "papermill": {
     "duration": 0.022623,
     "end_time": "2024-06-27T16:53:37.373839",
     "exception": false,
     "start_time": "2024-06-27T16:53:37.351216",
     "status": "completed"
    },
    "tags": []
   },
   "outputs": [],
   "source": [
    "from sklearn.preprocessing import StandardScaler"
   ]
  },
  {
   "cell_type": "code",
   "execution_count": 23,
   "id": "207c9079",
   "metadata": {
    "execution": {
     "iopub.execute_input": "2024-06-27T16:53:37.402072Z",
     "iopub.status.busy": "2024-06-27T16:53:37.401633Z",
     "iopub.status.idle": "2024-06-27T16:53:37.414427Z",
     "shell.execute_reply": "2024-06-27T16:53:37.413548Z"
    },
    "papermill": {
     "duration": 0.029616,
     "end_time": "2024-06-27T16:53:37.416888",
     "exception": false,
     "start_time": "2024-06-27T16:53:37.387272",
     "status": "completed"
    },
    "tags": []
   },
   "outputs": [],
   "source": [
    "scaler = StandardScaler()\n",
    "X_train = scaler.fit_transform(X_train)\n",
    "X_test = scaler.transform(X_test)"
   ]
  },
  {
   "cell_type": "markdown",
   "id": "b5ed6101",
   "metadata": {
    "papermill": {
     "duration": 0.013032,
     "end_time": "2024-06-27T16:53:37.443567",
     "exception": false,
     "start_time": "2024-06-27T16:53:37.430535",
     "status": "completed"
    },
    "tags": []
   },
   "source": [
    "Naive Bayes"
   ]
  },
  {
   "cell_type": "code",
   "execution_count": 24,
   "id": "dd8aa59f",
   "metadata": {
    "execution": {
     "iopub.execute_input": "2024-06-27T16:53:37.472588Z",
     "iopub.status.busy": "2024-06-27T16:53:37.471613Z",
     "iopub.status.idle": "2024-06-27T16:53:37.506216Z",
     "shell.execute_reply": "2024-06-27T16:53:37.505282Z"
    },
    "papermill": {
     "duration": 0.051824,
     "end_time": "2024-06-27T16:53:37.508653",
     "exception": false,
     "start_time": "2024-06-27T16:53:37.456829",
     "status": "completed"
    },
    "tags": []
   },
   "outputs": [
    {
     "name": "stdout",
     "output_type": "stream",
     "text": [
      "Training accuracy Score    :  0.8248571428571428\n",
      "Test accuracy Score :  0.8283333333333334\n",
      "              precision    recall  f1-score   support\n",
      "\n",
      "           0       0.97      0.84      0.90      2784\n",
      "           1       0.25      0.72      0.38       216\n",
      "\n",
      "    accuracy                           0.83      3000\n",
      "   macro avg       0.61      0.78      0.64      3000\n",
      "weighted avg       0.92      0.83      0.86      3000\n",
      "\n"
     ]
    }
   ],
   "source": [
    "from sklearn.naive_bayes import GaussianNB\n",
    "from sklearn.metrics import accuracy_score, classification_report\n",
    "\n",
    "naiveBayes_clf = GaussianNB()\n",
    "naiveBayes_clf.fit(X_train, y_train)\n",
    "NB_prediction = naiveBayes_clf.predict(X_test)\n",
    "NB_accuracy = accuracy_score(y_test, NB_prediction)\n",
    "\n",
    "print(\"Training accuracy Score    : \", naiveBayes_clf.score(X_train, y_train))\n",
    "print(\"Test accuracy Score : \", NB_accuracy)\n",
    "print(classification_report(NB_prediction, y_test))\n"
   ]
  },
  {
   "cell_type": "code",
   "execution_count": 25,
   "id": "e8587f9a",
   "metadata": {
    "execution": {
     "iopub.execute_input": "2024-06-27T16:53:37.537512Z",
     "iopub.status.busy": "2024-06-27T16:53:37.536807Z",
     "iopub.status.idle": "2024-06-27T16:53:37.735668Z",
     "shell.execute_reply": "2024-06-27T16:53:37.734694Z"
    },
    "papermill": {
     "duration": 0.215619,
     "end_time": "2024-06-27T16:53:37.737859",
     "exception": false,
     "start_time": "2024-06-27T16:53:37.522240",
     "status": "completed"
    },
    "tags": []
   },
   "outputs": [
    {
     "data": {
      "image/png": "[encoded data removed]",
      "text/plain": [
       "<Figure size 800x600 with 1 Axes>"
      ]
     },
     "metadata": {},
     "output_type": "display_data"
    }
   ],
   "source": [
    "from sklearn.metrics import confusion_matrix\n",
    "\n",
    "# Calculate confusion matrix\n",
    "conf_matrix = confusion_matrix(y_test, NB_prediction)\n",
    "\n",
    "# Plot confusion matrix\n",
    "plt.figure(figsize=(8, 6))\n",
    "sns.heatmap(conf_matrix, annot=True, fmt=\"d\", cmap=\"Blues\", cbar=False)\n",
    "plt.xlabel(\"Predicted labels\")\n",
    "plt.ylabel(\"True labels\")\n",
    "plt.title(\"Confusion Matrix\")\n",
    "plt.show()"
   ]
  },
  {
   "cell_type": "markdown",
   "id": "9a0a455d",
   "metadata": {
    "papermill": {
     "duration": 0.013693,
     "end_time": "2024-06-27T16:53:37.765455",
     "exception": false,
     "start_time": "2024-06-27T16:53:37.751762",
     "status": "completed"
    },
    "tags": []
   },
   "source": [
    "Logistic Regression"
   ]
  },
  {
   "cell_type": "code",
   "execution_count": 26,
   "id": "157e3183",
   "metadata": {
    "execution": {
     "iopub.execute_input": "2024-06-27T16:53:37.794876Z",
     "iopub.status.busy": "2024-06-27T16:53:37.794447Z",
     "iopub.status.idle": "2024-06-27T16:53:37.852065Z",
     "shell.execute_reply": "2024-06-27T16:53:37.850435Z"
    },
    "papermill": {
     "duration": 0.077123,
     "end_time": "2024-06-27T16:53:37.856401",
     "exception": false,
     "start_time": "2024-06-27T16:53:37.779278",
     "status": "completed"
    },
    "tags": []
   },
   "outputs": [
    {
     "name": "stdout",
     "output_type": "stream",
     "text": [
      "Training accuracy Score    :  0.8072857142857143\n",
      "Test accuracy Score :  0.8053333333333333\n",
      "              precision    recall  f1-score   support\n",
      "\n",
      "           0       0.97      0.82      0.89      2825\n",
      "           1       0.16      0.57      0.26       175\n",
      "\n",
      "    accuracy                           0.81      3000\n",
      "   macro avg       0.57      0.70      0.57      3000\n",
      "weighted avg       0.92      0.81      0.85      3000\n",
      "\n"
     ]
    }
   ],
   "source": [
    "from sklearn.linear_model import LogisticRegression\n",
    "from sklearn.metrics import accuracy_score, classification_report\n",
    "\n",
    "# Create a Logistic Regression classifier\n",
    "logreg_clf = LogisticRegression()\n",
    "logreg_clf.fit(X_train, y_train)\n",
    "logreg_prediction = logreg_clf.predict(X_test)\n",
    "logreg_accuracy = accuracy_score(y_test, logreg_prediction)\n",
    "\n",
    "print(\"Training accuracy Score    : \", logreg_clf.score(X_train, y_train))\n",
    "print(\"Test accuracy Score : \", logreg_accuracy)\n",
    "print(classification_report(logreg_prediction, y_test))\n"
   ]
  },
  {
   "cell_type": "code",
   "execution_count": 27,
   "id": "14c8709b",
   "metadata": {
    "execution": {
     "iopub.execute_input": "2024-06-27T16:53:37.920517Z",
     "iopub.status.busy": "2024-06-27T16:53:37.919849Z",
     "iopub.status.idle": "2024-06-27T16:53:38.123965Z",
     "shell.execute_reply": "2024-06-27T16:53:38.122778Z"
    },
    "papermill": {
     "duration": 0.238731,
     "end_time": "2024-06-27T16:53:38.126435",
     "exception": false,
     "start_time": "2024-06-27T16:53:37.887704",
     "status": "completed"
    },
    "tags": []
   },
   "outputs": [
    {
     "data": {
      "image/png": "[encoded data removed]",
      "text/plain": [
       "<Figure size 800x600 with 1 Axes>"
      ]
     },
     "metadata": {},
     "output_type": "display_data"
    }
   ],
   "source": [
    "from sklearn.metrics import confusion_matrix\n",
    "\n",
    "# Calculate the confusion matrix\n",
    "conf_matrix = confusion_matrix(y_test, logreg_prediction)\n",
    "\n",
    "# Plot confusion matrix\n",
    "plt.figure(figsize=(8,6))\n",
    "sns.heatmap(conf_matrix, annot=True, fmt=\"d\", cmap=\"Blues\", cbar=False)\n",
    "plt.xlabel(\"Predicted labels\")\n",
    "plt.ylabel(\"True labels\")\n",
    "plt.title(\"Confusion Matrix:\")\n",
    "plt.show()"
   ]
  }
 ],
 "metadata": {
  "kaggle": {
   "accelerator": "none",
   "dataSources": [
    {
     "datasetId": 2008274,
     "sourceId": 3322096,
     "sourceType": "datasetVersion"
    }
   ],
   "dockerImageVersionId": 30732,
   "isGpuEnabled": false,
   "isInternetEnabled": true,
   "language": "python",
   "sourceType": "notebook"
  },
  "kernelspec": {
   "display_name": "Python 3",
   "language": "python",
   "name": "python3"
  },
  "language_info": {
   "codemirror_mode": {
    "name": "ipython",
    "version": 3
   },
   "file_extension": ".py",
   "mimetype": "text/x-python",
   "name": "python",
   "nbconvert_exporter": "python",
   "pygments_lexer": "ipython3",
   "version": "3.10.13"
  },
  "papermill": {
   "default_parameters": {},
   "duration": 8.805591,
   "end_time": "2024-06-27T16:53:38.762647",
   "environment_variables": {},
   "exception": null,
   "input_path": "__notebook__.ipynb",
   "output_path": "__notebook__.ipynb",
   "parameters": {},
   "start_time": "2024-06-27T16:53:29.957056",
   "version": "2.5.0"
  }
 },
 "nbformat": 4,
 "nbformat_minor": 5
}
