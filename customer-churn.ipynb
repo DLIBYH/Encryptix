{
 "cells": [
  {
   "cell_type": "code",
   "execution_count": 1,
   "id": "10380006",
   "metadata": {
    "_cell_guid": "b1076dfc-b9ad-4769-8c92-a6c4dae69d19",
    "_uuid": "8f2839f25d086af736a60e9eeb907d3b93b6e0e5",
    "execution": {
     "iopub.execute_input": "2024-06-22T16:58:31.132157Z",
     "iopub.status.busy": "2024-06-22T16:58:31.131572Z",
     "iopub.status.idle": "2024-06-22T16:58:32.070359Z",
     "shell.execute_reply": "2024-06-22T16:58:32.069100Z"
    },
    "papermill": {
     "duration": 0.950488,
     "end_time": "2024-06-22T16:58:32.072879",
     "exception": false,
     "start_time": "2024-06-22T16:58:31.122391",
     "status": "completed"
    },
    "tags": []
   },
   "outputs": [
    {
     "name": "stdout",
     "output_type": "stream",
     "text": [
      "/kaggle/input/bank-customer-churn-prediction/Churn_Modelling.csv\n"
     ]
    }
   ],
   "source": [
    "# This Python 3 environment comes with many helpful analytics libraries installed\n",
    "# It is defined by the kaggle/python Docker image: https://github.com/kaggle/docker-python\n",
    "# For example, here's several helpful packages to load\n",
    "\n",
    "import numpy as np # linear algebra\n",
    "import pandas as pd # data processing, CSV file I/O (e.g. pd.read_csv)\n",
    "\n",
    "# Input data files are available in the read-only \"../input/\" directory\n",
    "# For example, running this (by clicking run or pressing Shift+Enter) will list all files under the input directory\n",
    "\n",
    "import os\n",
    "for dirname, _, filenames in os.walk('/kaggle/input'):\n",
    "    for filename in filenames:\n",
    "        print(os.path.join(dirname, filename))\n",
    "\n",
    "# You can write up to 20GB to the current directory (/kaggle/working/) that gets preserved as output when you create a version using \"Save & Run All\" \n",
    "# You can also write temporary files to /kaggle/temp/, but they won't be saved outside of the current session"
   ]
  },
  {
   "cell_type": "code",
   "execution_count": 2,
   "id": "8665e171",
   "metadata": {
    "execution": {
     "iopub.execute_input": "2024-06-22T16:58:32.087916Z",
     "iopub.status.busy": "2024-06-22T16:58:32.087387Z",
     "iopub.status.idle": "2024-06-22T16:58:34.505305Z",
     "shell.execute_reply": "2024-06-22T16:58:34.504349Z"
    },
    "papermill": {
     "duration": 2.428377,
     "end_time": "2024-06-22T16:58:34.507917",
     "exception": false,
     "start_time": "2024-06-22T16:58:32.079540",
     "status": "completed"
    },
    "tags": []
   },
   "outputs": [],
   "source": [
    "import pandas as pd\n",
    "from nltk.corpus import stopwords\n",
    "from nltk.tokenize import word_tokenize\n",
    "import matplotlib.pyplot as plt\n",
    "import re\n",
    "import numpy as np\n",
    "import seaborn as sns\n",
    "import matplotlib.pyplot as plt\n",
    "from wordcloud import WordCloud, STOPWORDS"
   ]
  },
  {
   "cell_type": "code",
   "execution_count": 3,
   "id": "ebbc1fd3",
   "metadata": {
    "execution": {
     "iopub.execute_input": "2024-06-22T16:58:34.523096Z",
     "iopub.status.busy": "2024-06-22T16:58:34.522541Z",
     "iopub.status.idle": "2024-06-22T16:58:34.527610Z",
     "shell.execute_reply": "2024-06-22T16:58:34.526432Z"
    },
    "papermill": {
     "duration": 0.015416,
     "end_time": "2024-06-22T16:58:34.530080",
     "exception": false,
     "start_time": "2024-06-22T16:58:34.514664",
     "status": "completed"
    },
    "tags": []
   },
   "outputs": [],
   "source": [
    "path_data = \"/kaggle/input/bank-customer-churn-prediction/Churn_Modelling.csv\""
   ]
  },
  {
   "cell_type": "code",
   "execution_count": 4,
   "id": "ae137daf",
   "metadata": {
    "execution": {
     "iopub.execute_input": "2024-06-22T16:58:34.544720Z",
     "iopub.status.busy": "2024-06-22T16:58:34.544334Z",
     "iopub.status.idle": "2024-06-22T16:58:34.625416Z",
     "shell.execute_reply": "2024-06-22T16:58:34.624306Z"
    },
    "papermill": {
     "duration": 0.091165,
     "end_time": "2024-06-22T16:58:34.627784",
     "exception": false,
     "start_time": "2024-06-22T16:58:34.536619",
     "status": "completed"
    },
    "tags": []
   },
   "outputs": [
    {
     "data": {
      "text/html": [
       "<div>\n",
       "<style scoped>\n",
       "    .dataframe tbody tr th:only-of-type {\n",
       "        vertical-align: middle;\n",
       "    }\n",
       "\n",
       "    .dataframe tbody tr th {\n",
       "        vertical-align: top;\n",
       "    }\n",
       "\n",
       "    .dataframe thead th {\n",
       "        text-align: right;\n",
       "    }\n",
       "</style>\n",
       "<table border=\"1\" class=\"dataframe\">\n",
       "  <thead>\n",
       "    <tr style=\"text-align: right;\">\n",
       "      <th></th>\n",
       "      <th>RowNumber</th>\n",
       "      <th>CustomerId</th>\n",
       "      <th>Surname</th>\n",
       "      <th>CreditScore</th>\n",
       "      <th>Geography</th>\n",
       "      <th>Gender</th>\n",
       "      <th>Age</th>\n",
       "      <th>Tenure</th>\n",
       "      <th>Balance</th>\n",
       "      <th>NumOfProducts</th>\n",
       "      <th>HasCrCard</th>\n",
       "      <th>IsActiveMember</th>\n",
       "      <th>EstimatedSalary</th>\n",
       "      <th>Exited</th>\n",
       "    </tr>\n",
       "  </thead>\n",
       "  <tbody>\n",
       "    <tr>\n",
       "      <th>0</th>\n",
       "      <td>1</td>\n",
       "      <td>15634602</td>\n",
       "      <td>Hargrave</td>\n",
       "      <td>619</td>\n",
       "      <td>France</td>\n",
       "      <td>Female</td>\n",
       "      <td>42</td>\n",
       "      <td>2</td>\n",
       "      <td>0.00</td>\n",
       "      <td>1</td>\n",
       "      <td>1</td>\n",
       "      <td>1</td>\n",
       "      <td>101348.88</td>\n",
       "      <td>1</td>\n",
       "    </tr>\n",
       "    <tr>\n",
       "      <th>1</th>\n",
       "      <td>2</td>\n",
       "      <td>15647311</td>\n",
       "      <td>Hill</td>\n",
       "      <td>608</td>\n",
       "      <td>Spain</td>\n",
       "      <td>Female</td>\n",
       "      <td>41</td>\n",
       "      <td>1</td>\n",
       "      <td>83807.86</td>\n",
       "      <td>1</td>\n",
       "      <td>0</td>\n",
       "      <td>1</td>\n",
       "      <td>112542.58</td>\n",
       "      <td>0</td>\n",
       "    </tr>\n",
       "    <tr>\n",
       "      <th>2</th>\n",
       "      <td>3</td>\n",
       "      <td>15619304</td>\n",
       "      <td>Onio</td>\n",
       "      <td>502</td>\n",
       "      <td>France</td>\n",
       "      <td>Female</td>\n",
       "      <td>42</td>\n",
       "      <td>8</td>\n",
       "      <td>159660.80</td>\n",
       "      <td>3</td>\n",
       "      <td>1</td>\n",
       "      <td>0</td>\n",
       "      <td>113931.57</td>\n",
       "      <td>1</td>\n",
       "    </tr>\n",
       "    <tr>\n",
       "      <th>3</th>\n",
       "      <td>4</td>\n",
       "      <td>15701354</td>\n",
       "      <td>Boni</td>\n",
       "      <td>699</td>\n",
       "      <td>France</td>\n",
       "      <td>Female</td>\n",
       "      <td>39</td>\n",
       "      <td>1</td>\n",
       "      <td>0.00</td>\n",
       "      <td>2</td>\n",
       "      <td>0</td>\n",
       "      <td>0</td>\n",
       "      <td>93826.63</td>\n",
       "      <td>0</td>\n",
       "    </tr>\n",
       "    <tr>\n",
       "      <th>4</th>\n",
       "      <td>5</td>\n",
       "      <td>15737888</td>\n",
       "      <td>Mitchell</td>\n",
       "      <td>850</td>\n",
       "      <td>Spain</td>\n",
       "      <td>Female</td>\n",
       "      <td>43</td>\n",
       "      <td>2</td>\n",
       "      <td>125510.82</td>\n",
       "      <td>1</td>\n",
       "      <td>1</td>\n",
       "      <td>1</td>\n",
       "      <td>79084.10</td>\n",
       "      <td>0</td>\n",
       "    </tr>\n",
       "    <tr>\n",
       "      <th>...</th>\n",
       "      <td>...</td>\n",
       "      <td>...</td>\n",
       "      <td>...</td>\n",
       "      <td>...</td>\n",
       "      <td>...</td>\n",
       "      <td>...</td>\n",
       "      <td>...</td>\n",
       "      <td>...</td>\n",
       "      <td>...</td>\n",
       "      <td>...</td>\n",
       "      <td>...</td>\n",
       "      <td>...</td>\n",
       "      <td>...</td>\n",
       "      <td>...</td>\n",
       "    </tr>\n",
       "    <tr>\n",
       "      <th>9995</th>\n",
       "      <td>9996</td>\n",
       "      <td>15606229</td>\n",
       "      <td>Obijiaku</td>\n",
       "      <td>771</td>\n",
       "      <td>France</td>\n",
       "      <td>Male</td>\n",
       "      <td>39</td>\n",
       "      <td>5</td>\n",
       "      <td>0.00</td>\n",
       "      <td>2</td>\n",
       "      <td>1</td>\n",
       "      <td>0</td>\n",
       "      <td>96270.64</td>\n",
       "      <td>0</td>\n",
       "    </tr>\n",
       "    <tr>\n",
       "      <th>9996</th>\n",
       "      <td>9997</td>\n",
       "      <td>15569892</td>\n",
       "      <td>Johnstone</td>\n",
       "      <td>516</td>\n",
       "      <td>France</td>\n",
       "      <td>Male</td>\n",
       "      <td>35</td>\n",
       "      <td>10</td>\n",
       "      <td>57369.61</td>\n",
       "      <td>1</td>\n",
       "      <td>1</td>\n",
       "      <td>1</td>\n",
       "      <td>101699.77</td>\n",
       "      <td>0</td>\n",
       "    </tr>\n",
       "    <tr>\n",
       "      <th>9997</th>\n",
       "      <td>9998</td>\n",
       "      <td>15584532</td>\n",
       "      <td>Liu</td>\n",
       "      <td>709</td>\n",
       "      <td>France</td>\n",
       "      <td>Female</td>\n",
       "      <td>36</td>\n",
       "      <td>7</td>\n",
       "      <td>0.00</td>\n",
       "      <td>1</td>\n",
       "      <td>0</td>\n",
       "      <td>1</td>\n",
       "      <td>42085.58</td>\n",
       "      <td>1</td>\n",
       "    </tr>\n",
       "    <tr>\n",
       "      <th>9998</th>\n",
       "      <td>9999</td>\n",
       "      <td>15682355</td>\n",
       "      <td>Sabbatini</td>\n",
       "      <td>772</td>\n",
       "      <td>Germany</td>\n",
       "      <td>Male</td>\n",
       "      <td>42</td>\n",
       "      <td>3</td>\n",
       "      <td>75075.31</td>\n",
       "      <td>2</td>\n",
       "      <td>1</td>\n",
       "      <td>0</td>\n",
       "      <td>92888.52</td>\n",
       "      <td>1</td>\n",
       "    </tr>\n",
       "    <tr>\n",
       "      <th>9999</th>\n",
       "      <td>10000</td>\n",
       "      <td>15628319</td>\n",
       "      <td>Walker</td>\n",
       "      <td>792</td>\n",
       "      <td>France</td>\n",
       "      <td>Female</td>\n",
       "      <td>28</td>\n",
       "      <td>4</td>\n",
       "      <td>130142.79</td>\n",
       "      <td>1</td>\n",
       "      <td>1</td>\n",
       "      <td>0</td>\n",
       "      <td>38190.78</td>\n",
       "      <td>0</td>\n",
       "    </tr>\n",
       "  </tbody>\n",
       "</table>\n",
       "<p>10000 rows × 14 columns</p>\n",
       "</div>"
      ],
      "text/plain": [
       "      RowNumber  CustomerId    Surname  CreditScore Geography  Gender  Age  \\\n",
       "0             1    15634602   Hargrave          619    France  Female   42   \n",
       "1             2    15647311       Hill          608     Spain  Female   41   \n",
       "2             3    15619304       Onio          502    France  Female   42   \n",
       "3             4    15701354       Boni          699    France  Female   39   \n",
       "4             5    15737888   Mitchell          850     Spain  Female   43   \n",
       "...         ...         ...        ...          ...       ...     ...  ...   \n",
       "9995       9996    15606229   Obijiaku          771    France    Male   39   \n",
       "9996       9997    15569892  Johnstone          516    France    Male   35   \n",
       "9997       9998    15584532        Liu          709    France  Female   36   \n",
       "9998       9999    15682355  Sabbatini          772   Germany    Male   42   \n",
       "9999      10000    15628319     Walker          792    France  Female   28   \n",
       "\n",
       "      Tenure    Balance  NumOfProducts  HasCrCard  IsActiveMember  \\\n",
       "0          2       0.00              1          1               1   \n",
       "1          1   83807.86              1          0               1   \n",
       "2          8  159660.80              3          1               0   \n",
       "3          1       0.00              2          0               0   \n",
       "4          2  125510.82              1          1               1   \n",
       "...      ...        ...            ...        ...             ...   \n",
       "9995       5       0.00              2          1               0   \n",
       "9996      10   57369.61              1          1               1   \n",
       "9997       7       0.00              1          0               1   \n",
       "9998       3   75075.31              2          1               0   \n",
       "9999       4  130142.79              1          1               0   \n",
       "\n",
       "      EstimatedSalary  Exited  \n",
       "0           101348.88       1  \n",
       "1           112542.58       0  \n",
       "2           113931.57       1  \n",
       "3            93826.63       0  \n",
       "4            79084.10       0  \n",
       "...               ...     ...  \n",
       "9995         96270.64       0  \n",
       "9996        101699.77       0  \n",
       "9997         42085.58       1  \n",
       "9998         92888.52       1  \n",
       "9999         38190.78       0  \n",
       "\n",
       "[10000 rows x 14 columns]"
      ]
     },
     "execution_count": 4,
     "metadata": {},
     "output_type": "execute_result"
    }
   ],
   "source": [
    "df = pd.read_csv(path_data)\n",
    "df"
   ]
  },
  {
   "cell_type": "code",
   "execution_count": 5,
   "id": "0308f58e",
   "metadata": {
    "execution": {
     "iopub.execute_input": "2024-06-22T16:58:34.643602Z",
     "iopub.status.busy": "2024-06-22T16:58:34.643187Z",
     "iopub.status.idle": "2024-06-22T16:58:34.667302Z",
     "shell.execute_reply": "2024-06-22T16:58:34.665946Z"
    },
    "papermill": {
     "duration": 0.034918,
     "end_time": "2024-06-22T16:58:34.669800",
     "exception": false,
     "start_time": "2024-06-22T16:58:34.634882",
     "status": "completed"
    },
    "tags": []
   },
   "outputs": [
    {
     "name": "stdout",
     "output_type": "stream",
     "text": [
      "<class 'pandas.core.frame.DataFrame'>\n",
      "RangeIndex: 10000 entries, 0 to 9999\n",
      "Data columns (total 14 columns):\n",
      " #   Column           Non-Null Count  Dtype  \n",
      "---  ------           --------------  -----  \n",
      " 0   RowNumber        10000 non-null  int64  \n",
      " 1   CustomerId       10000 non-null  int64  \n",
      " 2   Surname          10000 non-null  object \n",
      " 3   CreditScore      10000 non-null  int64  \n",
      " 4   Geography        10000 non-null  object \n",
      " 5   Gender           10000 non-null  object \n",
      " 6   Age              10000 non-null  int64  \n",
      " 7   Tenure           10000 non-null  int64  \n",
      " 8   Balance          10000 non-null  float64\n",
      " 9   NumOfProducts    10000 non-null  int64  \n",
      " 10  HasCrCard        10000 non-null  int64  \n",
      " 11  IsActiveMember   10000 non-null  int64  \n",
      " 12  EstimatedSalary  10000 non-null  float64\n",
      " 13  Exited           10000 non-null  int64  \n",
      "dtypes: float64(2), int64(9), object(3)\n",
      "memory usage: 1.1+ MB\n"
     ]
    }
   ],
   "source": [
    "df.info()"
   ]
  },
  {
   "cell_type": "code",
   "execution_count": 6,
   "id": "62c9472f",
   "metadata": {
    "execution": {
     "iopub.execute_input": "2024-06-22T16:58:34.685871Z",
     "iopub.status.busy": "2024-06-22T16:58:34.685396Z",
     "iopub.status.idle": "2024-06-22T16:58:34.699192Z",
     "shell.execute_reply": "2024-06-22T16:58:34.697982Z"
    },
    "papermill": {
     "duration": 0.024443,
     "end_time": "2024-06-22T16:58:34.701453",
     "exception": false,
     "start_time": "2024-06-22T16:58:34.677010",
     "status": "completed"
    },
    "tags": []
   },
   "outputs": [
    {
     "name": "stdout",
     "output_type": "stream",
     "text": [
      "Number of duplicate entries:  0\n"
     ]
    }
   ],
   "source": [
    "duplicated_count = df.duplicated().sum()\n",
    "print(\"Number of duplicate entries: \", duplicated_count)"
   ]
  },
  {
   "cell_type": "code",
   "execution_count": 7,
   "id": "b9d2c289",
   "metadata": {
    "execution": {
     "iopub.execute_input": "2024-06-22T16:58:34.717466Z",
     "iopub.status.busy": "2024-06-22T16:58:34.717076Z",
     "iopub.status.idle": "2024-06-22T16:58:34.942806Z",
     "shell.execute_reply": "2024-06-22T16:58:34.941694Z"
    },
    "papermill": {
     "duration": 0.236531,
     "end_time": "2024-06-22T16:58:34.945228",
     "exception": false,
     "start_time": "2024-06-22T16:58:34.708697",
     "status": "completed"
    },
    "tags": []
   },
   "outputs": [
    {
     "data": {
      "text/plain": [
       "<Axes: xlabel='Gender'>"
      ]
     },
     "execution_count": 7,
     "metadata": {},
     "output_type": "execute_result"
    },
    {
     "data": {
      "image/png": "[encoded data removed]",
      "text/plain": [
       "<Figure size 640x480 with 1 Axes>"
      ]
     },
     "metadata": {},
     "output_type": "display_data"
    }
   ],
   "source": [
    "# Count occurrences of each 'Gender'\n",
    "gender_counts = df['Gender'].value_counts()\n",
    "gender_counts.plot(kind='bar')"
   ]
  },
  {
   "cell_type": "code",
   "execution_count": 8,
   "id": "972adaf2",
   "metadata": {
    "execution": {
     "iopub.execute_input": "2024-06-22T16:58:34.962458Z",
     "iopub.status.busy": "2024-06-22T16:58:34.962055Z",
     "iopub.status.idle": "2024-06-22T16:58:34.970521Z",
     "shell.execute_reply": "2024-06-22T16:58:34.969447Z"
    },
    "papermill": {
     "duration": 0.01986,
     "end_time": "2024-06-22T16:58:34.972785",
     "exception": false,
     "start_time": "2024-06-22T16:58:34.952925",
     "status": "completed"
    },
    "tags": []
   },
   "outputs": [
    {
     "data": {
      "text/plain": [
       "Gender\n",
       "Male      5457\n",
       "Female    4543\n",
       "Name: count, dtype: int64"
      ]
     },
     "execution_count": 8,
     "metadata": {},
     "output_type": "execute_result"
    }
   ],
   "source": [
    "gender_counts"
   ]
  },
  {
   "cell_type": "code",
   "execution_count": 9,
   "id": "b33c40cf",
   "metadata": {
    "execution": {
     "iopub.execute_input": "2024-06-22T16:58:34.989821Z",
     "iopub.status.busy": "2024-06-22T16:58:34.989393Z",
     "iopub.status.idle": "2024-06-22T16:58:35.127448Z",
     "shell.execute_reply": "2024-06-22T16:58:35.126091Z"
    },
    "papermill": {
     "duration": 0.150031,
     "end_time": "2024-06-22T16:58:35.130544",
     "exception": false,
     "start_time": "2024-06-22T16:58:34.980513",
     "status": "completed"
    },
    "tags": []
   },
   "outputs": [
    {
     "data": {
      "text/plain": [
       "<Axes: ylabel='count'>"
      ]
     },
     "execution_count": 9,
     "metadata": {},
     "output_type": "execute_result"
    },
    {
     "data": {
      "image/png": "[encoded data removed]",
      "text/plain": [
       "<Figure size 640x480 with 1 Axes>"
      ]
     },
     "metadata": {},
     "output_type": "display_data"
    }
   ],
   "source": [
    "# Count occurrences of each 'Geography'\n",
    "geography_counts = df['Geography'].value_counts()\n",
    "geography_counts.plot.pie(autopct='%1.1f%%', legend=False)"
   ]
  },
  {
   "cell_type": "code",
   "execution_count": 10,
   "id": "c122f046",
   "metadata": {
    "execution": {
     "iopub.execute_input": "2024-06-22T16:58:35.159946Z",
     "iopub.status.busy": "2024-06-22T16:58:35.159002Z",
     "iopub.status.idle": "2024-06-22T16:58:35.168819Z",
     "shell.execute_reply": "2024-06-22T16:58:35.167609Z"
    },
    "papermill": {
     "duration": 0.027817,
     "end_time": "2024-06-22T16:58:35.171775",
     "exception": false,
     "start_time": "2024-06-22T16:58:35.143958",
     "status": "completed"
    },
    "tags": []
   },
   "outputs": [
    {
     "data": {
      "text/plain": [
       "Geography\n",
       "France     5014\n",
       "Germany    2509\n",
       "Spain      2477\n",
       "Name: count, dtype: int64"
      ]
     },
     "execution_count": 10,
     "metadata": {},
     "output_type": "execute_result"
    }
   ],
   "source": [
    "geography_counts"
   ]
  },
  {
   "cell_type": "code",
   "execution_count": 11,
   "id": "7e6a83c4",
   "metadata": {
    "execution": {
     "iopub.execute_input": "2024-06-22T16:58:35.202638Z",
     "iopub.status.busy": "2024-06-22T16:58:35.201486Z",
     "iopub.status.idle": "2024-06-22T16:58:35.209132Z",
     "shell.execute_reply": "2024-06-22T16:58:35.208015Z"
    },
    "papermill": {
     "duration": 0.026429,
     "end_time": "2024-06-22T16:58:35.212074",
     "exception": false,
     "start_time": "2024-06-22T16:58:35.185645",
     "status": "completed"
    },
    "tags": []
   },
   "outputs": [
    {
     "name": "stdout",
     "output_type": "stream",
     "text": [
      "Index(['RowNumber', 'CustomerId', 'Surname', 'CreditScore', 'Geography',\n",
      "       'Gender', 'Age', 'Tenure', 'Balance', 'NumOfProducts', 'HasCrCard',\n",
      "       'IsActiveMember', 'EstimatedSalary', 'Exited'],\n",
      "      dtype='object')\n"
     ]
    }
   ],
   "source": [
    "print(df.columns)"
   ]
  },
  {
   "cell_type": "code",
   "execution_count": 12,
   "id": "3ef6d774",
   "metadata": {
    "execution": {
     "iopub.execute_input": "2024-06-22T16:58:35.233420Z",
     "iopub.status.busy": "2024-06-22T16:58:35.233022Z",
     "iopub.status.idle": "2024-06-22T16:58:35.241741Z",
     "shell.execute_reply": "2024-06-22T16:58:35.240539Z"
    },
    "papermill": {
     "duration": 0.021079,
     "end_time": "2024-06-22T16:58:35.244079",
     "exception": false,
     "start_time": "2024-06-22T16:58:35.223000",
     "status": "completed"
    },
    "tags": []
   },
   "outputs": [],
   "source": [
    "df.drop(columns=['RowNumber', 'CustomerId', 'Surname'], inplace=True)"
   ]
  },
  {
   "cell_type": "code",
   "execution_count": 13,
   "id": "9f90396f",
   "metadata": {
    "execution": {
     "iopub.execute_input": "2024-06-22T16:58:35.262264Z",
     "iopub.status.busy": "2024-06-22T16:58:35.261885Z",
     "iopub.status.idle": "2024-06-22T16:58:35.277736Z",
     "shell.execute_reply": "2024-06-22T16:58:35.276448Z"
    },
    "papermill": {
     "duration": 0.027873,
     "end_time": "2024-06-22T16:58:35.280247",
     "exception": false,
     "start_time": "2024-06-22T16:58:35.252374",
     "status": "completed"
    },
    "tags": []
   },
   "outputs": [
    {
     "data": {
      "text/html": [
       "<div>\n",
       "<style scoped>\n",
       "    .dataframe tbody tr th:only-of-type {\n",
       "        vertical-align: middle;\n",
       "    }\n",
       "\n",
       "    .dataframe tbody tr th {\n",
       "        vertical-align: top;\n",
       "    }\n",
       "\n",
       "    .dataframe thead th {\n",
       "        text-align: right;\n",
       "    }\n",
       "</style>\n",
       "<table border=\"1\" class=\"dataframe\">\n",
       "  <thead>\n",
       "    <tr style=\"text-align: right;\">\n",
       "      <th></th>\n",
       "      <th>CreditScore</th>\n",
       "      <th>Geography</th>\n",
       "      <th>Gender</th>\n",
       "      <th>Age</th>\n",
       "      <th>Tenure</th>\n",
       "      <th>Balance</th>\n",
       "      <th>NumOfProducts</th>\n",
       "      <th>HasCrCard</th>\n",
       "      <th>IsActiveMember</th>\n",
       "      <th>EstimatedSalary</th>\n",
       "      <th>Exited</th>\n",
       "    </tr>\n",
       "  </thead>\n",
       "  <tbody>\n",
       "    <tr>\n",
       "      <th>0</th>\n",
       "      <td>619</td>\n",
       "      <td>France</td>\n",
       "      <td>Female</td>\n",
       "      <td>42</td>\n",
       "      <td>2</td>\n",
       "      <td>0.00</td>\n",
       "      <td>1</td>\n",
       "      <td>1</td>\n",
       "      <td>1</td>\n",
       "      <td>101348.88</td>\n",
       "      <td>1</td>\n",
       "    </tr>\n",
       "    <tr>\n",
       "      <th>1</th>\n",
       "      <td>608</td>\n",
       "      <td>Spain</td>\n",
       "      <td>Female</td>\n",
       "      <td>41</td>\n",
       "      <td>1</td>\n",
       "      <td>83807.86</td>\n",
       "      <td>1</td>\n",
       "      <td>0</td>\n",
       "      <td>1</td>\n",
       "      <td>112542.58</td>\n",
       "      <td>0</td>\n",
       "    </tr>\n",
       "    <tr>\n",
       "      <th>2</th>\n",
       "      <td>502</td>\n",
       "      <td>France</td>\n",
       "      <td>Female</td>\n",
       "      <td>42</td>\n",
       "      <td>8</td>\n",
       "      <td>159660.80</td>\n",
       "      <td>3</td>\n",
       "      <td>1</td>\n",
       "      <td>0</td>\n",
       "      <td>113931.57</td>\n",
       "      <td>1</td>\n",
       "    </tr>\n",
       "    <tr>\n",
       "      <th>3</th>\n",
       "      <td>699</td>\n",
       "      <td>France</td>\n",
       "      <td>Female</td>\n",
       "      <td>39</td>\n",
       "      <td>1</td>\n",
       "      <td>0.00</td>\n",
       "      <td>2</td>\n",
       "      <td>0</td>\n",
       "      <td>0</td>\n",
       "      <td>93826.63</td>\n",
       "      <td>0</td>\n",
       "    </tr>\n",
       "    <tr>\n",
       "      <th>4</th>\n",
       "      <td>850</td>\n",
       "      <td>Spain</td>\n",
       "      <td>Female</td>\n",
       "      <td>43</td>\n",
       "      <td>2</td>\n",
       "      <td>125510.82</td>\n",
       "      <td>1</td>\n",
       "      <td>1</td>\n",
       "      <td>1</td>\n",
       "      <td>79084.10</td>\n",
       "      <td>0</td>\n",
       "    </tr>\n",
       "  </tbody>\n",
       "</table>\n",
       "</div>"
      ],
      "text/plain": [
       "   CreditScore Geography  Gender  Age  Tenure    Balance  NumOfProducts  \\\n",
       "0          619    France  Female   42       2       0.00              1   \n",
       "1          608     Spain  Female   41       1   83807.86              1   \n",
       "2          502    France  Female   42       8  159660.80              3   \n",
       "3          699    France  Female   39       1       0.00              2   \n",
       "4          850     Spain  Female   43       2  125510.82              1   \n",
       "\n",
       "   HasCrCard  IsActiveMember  EstimatedSalary  Exited  \n",
       "0          1               1        101348.88       1  \n",
       "1          0               1        112542.58       0  \n",
       "2          1               0        113931.57       1  \n",
       "3          0               0         93826.63       0  \n",
       "4          1               1         79084.10       0  "
      ]
     },
     "execution_count": 13,
     "metadata": {},
     "output_type": "execute_result"
    }
   ],
   "source": [
    "df.head()"
   ]
  },
  {
   "cell_type": "code",
   "execution_count": 14,
   "id": "becb61d5",
   "metadata": {
    "execution": {
     "iopub.execute_input": "2024-06-22T16:58:35.299271Z",
     "iopub.status.busy": "2024-06-22T16:58:35.298865Z",
     "iopub.status.idle": "2024-06-22T16:58:35.311915Z",
     "shell.execute_reply": "2024-06-22T16:58:35.310738Z"
    },
    "papermill": {
     "duration": 0.025356,
     "end_time": "2024-06-22T16:58:35.314247",
     "exception": false,
     "start_time": "2024-06-22T16:58:35.288891",
     "status": "completed"
    },
    "tags": []
   },
   "outputs": [
    {
     "name": "stdout",
     "output_type": "stream",
     "text": [
      "<class 'pandas.core.frame.DataFrame'>\n",
      "RangeIndex: 10000 entries, 0 to 9999\n",
      "Data columns (total 11 columns):\n",
      " #   Column           Non-Null Count  Dtype  \n",
      "---  ------           --------------  -----  \n",
      " 0   CreditScore      10000 non-null  int64  \n",
      " 1   Geography        10000 non-null  object \n",
      " 2   Gender           10000 non-null  object \n",
      " 3   Age              10000 non-null  int64  \n",
      " 4   Tenure           10000 non-null  int64  \n",
      " 5   Balance          10000 non-null  float64\n",
      " 6   NumOfProducts    10000 non-null  int64  \n",
      " 7   HasCrCard        10000 non-null  int64  \n",
      " 8   IsActiveMember   10000 non-null  int64  \n",
      " 9   EstimatedSalary  10000 non-null  float64\n",
      " 10  Exited           10000 non-null  int64  \n",
      "dtypes: float64(2), int64(7), object(2)\n",
      "memory usage: 859.5+ KB\n"
     ]
    }
   ],
   "source": [
    "df.info()"
   ]
  },
  {
   "cell_type": "code",
   "execution_count": 15,
   "id": "9e8474bf",
   "metadata": {
    "execution": {
     "iopub.execute_input": "2024-06-22T16:58:35.333347Z",
     "iopub.status.busy": "2024-06-22T16:58:35.332904Z",
     "iopub.status.idle": "2024-06-22T16:58:35.337967Z",
     "shell.execute_reply": "2024-06-22T16:58:35.336850Z"
    },
    "papermill": {
     "duration": 0.017756,
     "end_time": "2024-06-22T16:58:35.340502",
     "exception": false,
     "start_time": "2024-06-22T16:58:35.322746",
     "status": "completed"
    },
    "tags": []
   },
   "outputs": [],
   "source": [
    "from sklearn.preprocessing import LabelEncoder"
   ]
  },
  {
   "cell_type": "code",
   "execution_count": 16,
   "id": "0327633e",
   "metadata": {
    "execution": {
     "iopub.execute_input": "2024-06-22T16:58:35.359203Z",
     "iopub.status.busy": "2024-06-22T16:58:35.358754Z",
     "iopub.status.idle": "2024-06-22T16:58:35.370096Z",
     "shell.execute_reply": "2024-06-22T16:58:35.368863Z"
    },
    "papermill": {
     "duration": 0.023419,
     "end_time": "2024-06-22T16:58:35.372552",
     "exception": false,
     "start_time": "2024-06-22T16:58:35.349133",
     "status": "completed"
    },
    "tags": []
   },
   "outputs": [],
   "source": [
    "le = LabelEncoder()\n",
    "# Fit and transform the data\n",
    "df['Gender'] = le.fit_transform(df['Gender'])\n",
    "df['Geography'] = le.fit_transform(df['Geography'])"
   ]
  },
  {
   "cell_type": "code",
   "execution_count": 17,
   "id": "2a858361",
   "metadata": {
    "execution": {
     "iopub.execute_input": "2024-06-22T16:58:35.391677Z",
     "iopub.status.busy": "2024-06-22T16:58:35.391271Z",
     "iopub.status.idle": "2024-06-22T16:58:35.408733Z",
     "shell.execute_reply": "2024-06-22T16:58:35.407662Z"
    },
    "papermill": {
     "duration": 0.029889,
     "end_time": "2024-06-22T16:58:35.411192",
     "exception": false,
     "start_time": "2024-06-22T16:58:35.381303",
     "status": "completed"
    },
    "tags": []
   },
   "outputs": [
    {
     "data": {
      "text/html": [
       "<div>\n",
       "<style scoped>\n",
       "    .dataframe tbody tr th:only-of-type {\n",
       "        vertical-align: middle;\n",
       "    }\n",
       "\n",
       "    .dataframe tbody tr th {\n",
       "        vertical-align: top;\n",
       "    }\n",
       "\n",
       "    .dataframe thead th {\n",
       "        text-align: right;\n",
       "    }\n",
       "</style>\n",
       "<table border=\"1\" class=\"dataframe\">\n",
       "  <thead>\n",
       "    <tr style=\"text-align: right;\">\n",
       "      <th></th>\n",
       "      <th>CreditScore</th>\n",
       "      <th>Geography</th>\n",
       "      <th>Gender</th>\n",
       "      <th>Age</th>\n",
       "      <th>Tenure</th>\n",
       "      <th>Balance</th>\n",
       "      <th>NumOfProducts</th>\n",
       "      <th>HasCrCard</th>\n",
       "      <th>IsActiveMember</th>\n",
       "      <th>EstimatedSalary</th>\n",
       "      <th>Exited</th>\n",
       "    </tr>\n",
       "  </thead>\n",
       "  <tbody>\n",
       "    <tr>\n",
       "      <th>0</th>\n",
       "      <td>619</td>\n",
       "      <td>0</td>\n",
       "      <td>0</td>\n",
       "      <td>42</td>\n",
       "      <td>2</td>\n",
       "      <td>0.00</td>\n",
       "      <td>1</td>\n",
       "      <td>1</td>\n",
       "      <td>1</td>\n",
       "      <td>101348.88</td>\n",
       "      <td>1</td>\n",
       "    </tr>\n",
       "    <tr>\n",
       "      <th>1</th>\n",
       "      <td>608</td>\n",
       "      <td>2</td>\n",
       "      <td>0</td>\n",
       "      <td>41</td>\n",
       "      <td>1</td>\n",
       "      <td>83807.86</td>\n",
       "      <td>1</td>\n",
       "      <td>0</td>\n",
       "      <td>1</td>\n",
       "      <td>112542.58</td>\n",
       "      <td>0</td>\n",
       "    </tr>\n",
       "    <tr>\n",
       "      <th>2</th>\n",
       "      <td>502</td>\n",
       "      <td>0</td>\n",
       "      <td>0</td>\n",
       "      <td>42</td>\n",
       "      <td>8</td>\n",
       "      <td>159660.80</td>\n",
       "      <td>3</td>\n",
       "      <td>1</td>\n",
       "      <td>0</td>\n",
       "      <td>113931.57</td>\n",
       "      <td>1</td>\n",
       "    </tr>\n",
       "    <tr>\n",
       "      <th>3</th>\n",
       "      <td>699</td>\n",
       "      <td>0</td>\n",
       "      <td>0</td>\n",
       "      <td>39</td>\n",
       "      <td>1</td>\n",
       "      <td>0.00</td>\n",
       "      <td>2</td>\n",
       "      <td>0</td>\n",
       "      <td>0</td>\n",
       "      <td>93826.63</td>\n",
       "      <td>0</td>\n",
       "    </tr>\n",
       "    <tr>\n",
       "      <th>4</th>\n",
       "      <td>850</td>\n",
       "      <td>2</td>\n",
       "      <td>0</td>\n",
       "      <td>43</td>\n",
       "      <td>2</td>\n",
       "      <td>125510.82</td>\n",
       "      <td>1</td>\n",
       "      <td>1</td>\n",
       "      <td>1</td>\n",
       "      <td>79084.10</td>\n",
       "      <td>0</td>\n",
       "    </tr>\n",
       "    <tr>\n",
       "      <th>...</th>\n",
       "      <td>...</td>\n",
       "      <td>...</td>\n",
       "      <td>...</td>\n",
       "      <td>...</td>\n",
       "      <td>...</td>\n",
       "      <td>...</td>\n",
       "      <td>...</td>\n",
       "      <td>...</td>\n",
       "      <td>...</td>\n",
       "      <td>...</td>\n",
       "      <td>...</td>\n",
       "    </tr>\n",
       "    <tr>\n",
       "      <th>9995</th>\n",
       "      <td>771</td>\n",
       "      <td>0</td>\n",
       "      <td>1</td>\n",
       "      <td>39</td>\n",
       "      <td>5</td>\n",
       "      <td>0.00</td>\n",
       "      <td>2</td>\n",
       "      <td>1</td>\n",
       "      <td>0</td>\n",
       "      <td>96270.64</td>\n",
       "      <td>0</td>\n",
       "    </tr>\n",
       "    <tr>\n",
       "      <th>9996</th>\n",
       "      <td>516</td>\n",
       "      <td>0</td>\n",
       "      <td>1</td>\n",
       "      <td>35</td>\n",
       "      <td>10</td>\n",
       "      <td>57369.61</td>\n",
       "      <td>1</td>\n",
       "      <td>1</td>\n",
       "      <td>1</td>\n",
       "      <td>101699.77</td>\n",
       "      <td>0</td>\n",
       "    </tr>\n",
       "    <tr>\n",
       "      <th>9997</th>\n",
       "      <td>709</td>\n",
       "      <td>0</td>\n",
       "      <td>0</td>\n",
       "      <td>36</td>\n",
       "      <td>7</td>\n",
       "      <td>0.00</td>\n",
       "      <td>1</td>\n",
       "      <td>0</td>\n",
       "      <td>1</td>\n",
       "      <td>42085.58</td>\n",
       "      <td>1</td>\n",
       "    </tr>\n",
       "    <tr>\n",
       "      <th>9998</th>\n",
       "      <td>772</td>\n",
       "      <td>1</td>\n",
       "      <td>1</td>\n",
       "      <td>42</td>\n",
       "      <td>3</td>\n",
       "      <td>75075.31</td>\n",
       "      <td>2</td>\n",
       "      <td>1</td>\n",
       "      <td>0</td>\n",
       "      <td>92888.52</td>\n",
       "      <td>1</td>\n",
       "    </tr>\n",
       "    <tr>\n",
       "      <th>9999</th>\n",
       "      <td>792</td>\n",
       "      <td>0</td>\n",
       "      <td>0</td>\n",
       "      <td>28</td>\n",
       "      <td>4</td>\n",
       "      <td>130142.79</td>\n",
       "      <td>1</td>\n",
       "      <td>1</td>\n",
       "      <td>0</td>\n",
       "      <td>38190.78</td>\n",
       "      <td>0</td>\n",
       "    </tr>\n",
       "  </tbody>\n",
       "</table>\n",
       "<p>10000 rows × 11 columns</p>\n",
       "</div>"
      ],
      "text/plain": [
       "      CreditScore  Geography  Gender  Age  Tenure    Balance  NumOfProducts  \\\n",
       "0             619          0       0   42       2       0.00              1   \n",
       "1             608          2       0   41       1   83807.86              1   \n",
       "2             502          0       0   42       8  159660.80              3   \n",
       "3             699          0       0   39       1       0.00              2   \n",
       "4             850          2       0   43       2  125510.82              1   \n",
       "...           ...        ...     ...  ...     ...        ...            ...   \n",
       "9995          771          0       1   39       5       0.00              2   \n",
       "9996          516          0       1   35      10   57369.61              1   \n",
       "9997          709          0       0   36       7       0.00              1   \n",
       "9998          772          1       1   42       3   75075.31              2   \n",
       "9999          792          0       0   28       4  130142.79              1   \n",
       "\n",
       "      HasCrCard  IsActiveMember  EstimatedSalary  Exited  \n",
       "0             1               1        101348.88       1  \n",
       "1             0               1        112542.58       0  \n",
       "2             1               0        113931.57       1  \n",
       "3             0               0         93826.63       0  \n",
       "4             1               1         79084.10       0  \n",
       "...         ...             ...              ...     ...  \n",
       "9995          1               0         96270.64       0  \n",
       "9996          1               1        101699.77       0  \n",
       "9997          0               1         42085.58       1  \n",
       "9998          1               0         92888.52       1  \n",
       "9999          1               0         38190.78       0  \n",
       "\n",
       "[10000 rows x 11 columns]"
      ]
     },
     "execution_count": 17,
     "metadata": {},
     "output_type": "execute_result"
    }
   ],
   "source": [
    "df"
   ]
  },
  {
   "cell_type": "code",
   "execution_count": 18,
   "id": "b316341e",
   "metadata": {
    "execution": {
     "iopub.execute_input": "2024-06-22T16:58:35.430835Z",
     "iopub.status.busy": "2024-06-22T16:58:35.430405Z",
     "iopub.status.idle": "2024-06-22T16:58:35.440612Z",
     "shell.execute_reply": "2024-06-22T16:58:35.439384Z"
    },
    "papermill": {
     "duration": 0.022739,
     "end_time": "2024-06-22T16:58:35.442884",
     "exception": false,
     "start_time": "2024-06-22T16:58:35.420145",
     "status": "completed"
    },
    "tags": []
   },
   "outputs": [
    {
     "data": {
      "text/plain": [
       "Exited\n",
       "0    7963\n",
       "1    2037\n",
       "Name: count, dtype: int64"
      ]
     },
     "execution_count": 18,
     "metadata": {},
     "output_type": "execute_result"
    }
   ],
   "source": [
    "Exited = df[\"Exited\"].value_counts()\n",
    "Exited"
   ]
  },
  {
   "cell_type": "code",
   "execution_count": 19,
   "id": "8a5a38a3",
   "metadata": {
    "execution": {
     "iopub.execute_input": "2024-06-22T16:58:35.462604Z",
     "iopub.status.busy": "2024-06-22T16:58:35.462198Z",
     "iopub.status.idle": "2024-06-22T16:58:35.579128Z",
     "shell.execute_reply": "2024-06-22T16:58:35.577980Z"
    },
    "papermill": {
     "duration": 0.130324,
     "end_time": "2024-06-22T16:58:35.582217",
     "exception": false,
     "start_time": "2024-06-22T16:58:35.451893",
     "status": "completed"
    },
    "tags": []
   },
   "outputs": [
    {
     "data": {
      "text/plain": [
       "<Axes: ylabel='count'>"
      ]
     },
     "execution_count": 19,
     "metadata": {},
     "output_type": "execute_result"
    },
    {
     "data": {
      "image/png": "[encoded data removed]",
      "text/plain": [
       "<Figure size 640x480 with 1 Axes>"
      ]
     },
     "metadata": {},
     "output_type": "display_data"
    }
   ],
   "source": [
    "Exited.plot.pie(autopct='%1.1f%%', legend=False)"
   ]
  },
  {
   "cell_type": "code",
   "execution_count": 20,
   "id": "3a7c9881",
   "metadata": {
    "execution": {
     "iopub.execute_input": "2024-06-22T16:58:35.617575Z",
     "iopub.status.busy": "2024-06-22T16:58:35.615985Z",
     "iopub.status.idle": "2024-06-22T16:58:35.622393Z",
     "shell.execute_reply": "2024-06-22T16:58:35.621261Z"
    },
    "papermill": {
     "duration": 0.026673,
     "end_time": "2024-06-22T16:58:35.625312",
     "exception": false,
     "start_time": "2024-06-22T16:58:35.598639",
     "status": "completed"
    },
    "tags": []
   },
   "outputs": [],
   "source": [
    "from sklearn.model_selection import train_test_split"
   ]
  },
  {
   "cell_type": "code",
   "execution_count": 21,
   "id": "600d04a2",
   "metadata": {
    "execution": {
     "iopub.execute_input": "2024-06-22T16:58:35.660174Z",
     "iopub.status.busy": "2024-06-22T16:58:35.659079Z",
     "iopub.status.idle": "2024-06-22T16:58:35.672135Z",
     "shell.execute_reply": "2024-06-22T16:58:35.670862Z"
    },
    "papermill": {
     "duration": 0.034063,
     "end_time": "2024-06-22T16:58:35.675016",
     "exception": false,
     "start_time": "2024-06-22T16:58:35.640953",
     "status": "completed"
    },
    "tags": []
   },
   "outputs": [],
   "source": [
    "X_train, X_test, y_train, y_test =train_test_split(df.drop('Exited',axis=1),df['Exited'],test_size=0.3)"
   ]
  },
  {
   "cell_type": "code",
   "execution_count": 22,
   "id": "735cf937",
   "metadata": {
    "execution": {
     "iopub.execute_input": "2024-06-22T16:58:35.695711Z",
     "iopub.status.busy": "2024-06-22T16:58:35.695327Z",
     "iopub.status.idle": "2024-06-22T16:58:35.700369Z",
     "shell.execute_reply": "2024-06-22T16:58:35.699222Z"
    },
    "papermill": {
     "duration": 0.01797,
     "end_time": "2024-06-22T16:58:35.702578",
     "exception": false,
     "start_time": "2024-06-22T16:58:35.684608",
     "status": "completed"
    },
    "tags": []
   },
   "outputs": [],
   "source": [
    "from sklearn.preprocessing import StandardScaler"
   ]
  },
  {
   "cell_type": "code",
   "execution_count": 23,
   "id": "88202dea",
   "metadata": {
    "execution": {
     "iopub.execute_input": "2024-06-22T16:58:35.730941Z",
     "iopub.status.busy": "2024-06-22T16:58:35.730520Z",
     "iopub.status.idle": "2024-06-22T16:58:35.743142Z",
     "shell.execute_reply": "2024-06-22T16:58:35.741877Z"
    },
    "papermill": {
     "duration": 0.026143,
     "end_time": "2024-06-22T16:58:35.745992",
     "exception": false,
     "start_time": "2024-06-22T16:58:35.719849",
     "status": "completed"
    },
    "tags": []
   },
   "outputs": [],
   "source": [
    "scaler = StandardScaler()\n",
    "X_train = scaler.fit_transform(X_train)\n",
    "X_test = scaler.transform(X_test)"
   ]
  },
  {
   "cell_type": "code",
   "execution_count": 24,
   "id": "614d0ffd",
   "metadata": {
    "execution": {
     "iopub.execute_input": "2024-06-22T16:58:35.766733Z",
     "iopub.status.busy": "2024-06-22T16:58:35.766330Z",
     "iopub.status.idle": "2024-06-22T16:58:35.800186Z",
     "shell.execute_reply": "2024-06-22T16:58:35.799009Z"
    },
    "papermill": {
     "duration": 0.047089,
     "end_time": "2024-06-22T16:58:35.802668",
     "exception": false,
     "start_time": "2024-06-22T16:58:35.755579",
     "status": "completed"
    },
    "tags": []
   },
   "outputs": [
    {
     "name": "stdout",
     "output_type": "stream",
     "text": [
      "Training accuracy Score    :  0.8271428571428572\n",
      "Test accuracy Score :  0.8326666666666667\n",
      "              precision    recall  f1-score   support\n",
      "\n",
      "           0       0.99      0.83      0.90      2816\n",
      "           1       0.24      0.82      0.38       184\n",
      "\n",
      "    accuracy                           0.83      3000\n",
      "   macro avg       0.61      0.83      0.64      3000\n",
      "weighted avg       0.94      0.83      0.87      3000\n",
      "\n"
     ]
    }
   ],
   "source": [
    "from sklearn.naive_bayes import GaussianNB\n",
    "from sklearn.metrics import accuracy_score, classification_report\n",
    "\n",
    "naiveBayes_clf = GaussianNB()\n",
    "naiveBayes_clf.fit(X_train, y_train)\n",
    "NB_prediction = naiveBayes_clf.predict(X_test)\n",
    "NB_accuracy = accuracy_score(y_test, NB_prediction)\n",
    "\n",
    "print(\"Training accuracy Score    : \", naiveBayes_clf.score(X_train, y_train))\n",
    "print(\"Test accuracy Score : \", NB_accuracy)\n",
    "print(classification_report(NB_prediction, y_test))\n"
   ]
  },
  {
   "cell_type": "code",
   "execution_count": 25,
   "id": "d808456a",
   "metadata": {
    "execution": {
     "iopub.execute_input": "2024-06-22T16:58:35.823613Z",
     "iopub.status.busy": "2024-06-22T16:58:35.823223Z",
     "iopub.status.idle": "2024-06-22T16:58:36.005962Z",
     "shell.execute_reply": "2024-06-22T16:58:36.004918Z"
    },
    "papermill": {
     "duration": 0.195689,
     "end_time": "2024-06-22T16:58:36.008183",
     "exception": false,
     "start_time": "2024-06-22T16:58:35.812494",
     "status": "completed"
    },
    "tags": []
   },
   "outputs": [
    {
     "data": {
      "image/png": "[encoded data removed]",
      "text/plain": [
       "<Figure size 800x600 with 1 Axes>"
      ]
     },
     "metadata": {},
     "output_type": "display_data"
    }
   ],
   "source": [
    "from sklearn.metrics import confusion_matrix\n",
    "\n",
    "# Calculate confusion matrix\n",
    "conf_matrix = confusion_matrix(y_test, NB_prediction)\n",
    "\n",
    "# Plot confusion matrix\n",
    "plt.figure(figsize=(8, 6))\n",
    "sns.heatmap(conf_matrix, annot=True, fmt=\"d\", cmap=\"Blues\", cbar=False)\n",
    "plt.xlabel(\"Predicted labels\")\n",
    "plt.ylabel(\"True labels\")\n",
    "plt.title(\"Confusion Matrix\")\n",
    "plt.show()"
   ]
  },
  {
   "cell_type": "code",
   "execution_count": 26,
   "id": "5e8b66e1",
   "metadata": {
    "execution": {
     "iopub.execute_input": "2024-06-22T16:58:36.030777Z",
     "iopub.status.busy": "2024-06-22T16:58:36.029692Z",
     "iopub.status.idle": "2024-06-22T16:58:36.077444Z",
     "shell.execute_reply": "2024-06-22T16:58:36.075945Z"
    },
    "papermill": {
     "duration": 0.062481,
     "end_time": "2024-06-22T16:58:36.080649",
     "exception": false,
     "start_time": "2024-06-22T16:58:36.018168",
     "status": "completed"
    },
    "tags": []
   },
   "outputs": [
    {
     "name": "stdout",
     "output_type": "stream",
     "text": [
      "Training accuracy Score    :  0.8074285714285714\n",
      "Test accuracy Score :  0.81\n",
      "              precision    recall  f1-score   support\n",
      "\n",
      "           0       0.98      0.82      0.89      2848\n",
      "           1       0.16      0.66      0.26       152\n",
      "\n",
      "    accuracy                           0.81      3000\n",
      "   macro avg       0.57      0.74      0.58      3000\n",
      "weighted avg       0.94      0.81      0.86      3000\n",
      "\n"
     ]
    }
   ],
   "source": [
    "from sklearn.linear_model import LogisticRegression\n",
    "from sklearn.metrics import accuracy_score, classification_report\n",
    "\n",
    "# Create a Logistic Regression classifier\n",
    "logreg_clf = LogisticRegression()\n",
    "logreg_clf.fit(X_train, y_train)\n",
    "logreg_prediction = logreg_clf.predict(X_test)\n",
    "logreg_accuracy = accuracy_score(y_test, logreg_prediction)\n",
    "\n",
    "print(\"Training accuracy Score    : \", logreg_clf.score(X_train, y_train))\n",
    "print(\"Test accuracy Score : \", logreg_accuracy)\n",
    "print(classification_report(logreg_prediction, y_test))\n"
   ]
  },
  {
   "cell_type": "code",
   "execution_count": 27,
   "id": "4e47a829",
   "metadata": {
    "execution": {
     "iopub.execute_input": "2024-06-22T16:58:36.117721Z",
     "iopub.status.busy": "2024-06-22T16:58:36.117113Z",
     "iopub.status.idle": "2024-06-22T16:58:36.307893Z",
     "shell.execute_reply": "2024-06-22T16:58:36.306814Z"
    },
    "papermill": {
     "duration": 0.212013,
     "end_time": "2024-06-22T16:58:36.310115",
     "exception": false,
     "start_time": "2024-06-22T16:58:36.098102",
     "status": "completed"
    },
    "tags": []
   },
   "outputs": [
    {
     "data": {
      "image/png": "[encoded data removed]",
      "text/plain": [
       "<Figure size 800x600 with 1 Axes>"
      ]
     },
     "metadata": {},
     "output_type": "display_data"
    }
   ],
   "source": [
    "from sklearn.metrics import confusion_matrix\n",
    "\n",
    "# Calculate the confusion matrix\n",
    "conf_matrix = confusion_matrix(y_test, logreg_prediction)\n",
    "\n",
    "# Plot confusion matrix\n",
    "plt.figure(figsize=(8,6))\n",
    "sns.heatmap(conf_matrix, annot=True, fmt=\"d\", cmap=\"Blues\", cbar=False)\n",
    "plt.xlabel(\"Predicted labels\")\n",
    "plt.ylabel(\"True labels\")\n",
    "plt.title(\"Confusion Matrix:\")\n",
    "plt.show()"
   ]
  }
 ],
 "metadata": {
  "kaggle": {
   "accelerator": "none",
   "dataSources": [
    {
     "datasetId": 2008274,
     "sourceId": 3322096,
     "sourceType": "datasetVersion"
    }
   ],
   "dockerImageVersionId": 30732,
   "isGpuEnabled": false,
   "isInternetEnabled": true,
   "language": "python",
   "sourceType": "notebook"
  },
  "kernelspec": {
   "display_name": "Python 3",
   "language": "python",
   "name": "python3"
  },
  "language_info": {
   "codemirror_mode": {
    "name": "ipython",
    "version": 3
   },
   "file_extension": ".py",
   "mimetype": "text/x-python",
   "name": "python",
   "nbconvert_exporter": "python",
   "pygments_lexer": "ipython3",
   "version": "3.10.13"
  },
  "papermill": {
   "default_parameters": {},
   "duration": 8.781674,
   "end_time": "2024-06-22T16:58:37.045244",
   "environment_variables": {},
   "exception": null,
   "input_path": "__notebook__.ipynb",
   "output_path": "__notebook__.ipynb",
   "parameters": {},
   "start_time": "2024-06-22T16:58:28.263570",
   "version": "2.5.0"
  }
 },
 "nbformat": 4,
 "nbformat_minor": 5
}
