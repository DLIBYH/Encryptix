{
 "cells": [
  {
   "cell_type": "code",
   "execution_count": 1,
   "id": "8ca2904b",
   "metadata": {
    "_cell_guid": "b1076dfc-b9ad-4769-8c92-a6c4dae69d19",
    "_uuid": "8f2839f25d086af736a60e9eeb907d3b93b6e0e5",
    "execution": {
     "iopub.execute_input": "2024-06-18T18:30:27.922126Z",
     "iopub.status.busy": "2024-06-18T18:30:27.921705Z",
     "iopub.status.idle": "2024-06-18T18:30:28.934101Z",
     "shell.execute_reply": "2024-06-18T18:30:28.932584Z"
    },
    "papermill": {
     "duration": 1.023671,
     "end_time": "2024-06-18T18:30:28.937206",
     "exception": false,
     "start_time": "2024-06-18T18:30:27.913535",
     "status": "completed"
    },
    "tags": []
   },
   "outputs": [
    {
     "name": "stdout",
     "output_type": "stream",
     "text": [
      "/kaggle/input/spam-sms-data/spam.csv\n"
     ]
    }
   ],
   "source": [
    "# This Python 3 environment comes with many helpful analytics libraries installed\n",
    "# It is defined by the kaggle/python Docker image: https://github.com/kaggle/docker-python\n",
    "# For example, here's several helpful packages to load\n",
    "\n",
    "import numpy as np # linear algebra\n",
    "import pandas as pd # data processing, CSV file I/O (e.g. pd.read_csv)\n",
    "\n",
    "# Input data files are available in the read-only \"../input/\" directory\n",
    "# For example, running this (by clicking run or pressing Shift+Enter) will list all files under the input directory\n",
    "\n",
    "import os\n",
    "for dirname, _, filenames in os.walk('/kaggle/input'):\n",
    "    for filename in filenames:\n",
    "        print(os.path.join(dirname, filename))\n",
    "\n",
    "# You can write up to 20GB to the current directory (/kaggle/working/) that gets preserved as output when you create a version using \"Save & Run All\" \n",
    "# You can also write temporary files to /kaggle/temp/, but they won't be saved outside of the current session"
   ]
  },
  {
   "cell_type": "code",
   "execution_count": 2,
   "id": "9956892e",
   "metadata": {
    "execution": {
     "iopub.execute_input": "2024-06-18T18:30:28.950104Z",
     "iopub.status.busy": "2024-06-18T18:30:28.949529Z",
     "iopub.status.idle": "2024-06-18T18:30:32.380729Z",
     "shell.execute_reply": "2024-06-18T18:30:32.379251Z"
    },
    "papermill": {
     "duration": 3.441695,
     "end_time": "2024-06-18T18:30:32.384592",
     "exception": false,
     "start_time": "2024-06-18T18:30:28.942897",
     "status": "completed"
    },
    "tags": []
   },
   "outputs": [
    {
     "name": "stdout",
     "output_type": "stream",
     "text": [
      "[nltk_data] Downloading package stopwords to /usr/share/nltk_data...\n",
      "[nltk_data]   Package stopwords is already up-to-date!\n"
     ]
    }
   ],
   "source": [
    "import pandas as pd\n",
    "import matplotlib.pyplot as plt\n",
    "import seaborn as sns\n",
    "import plotly.express as px\n",
    "from matplotlib import style\n",
    "style.use('ggplot')\n",
    "import re\n",
    "from nltk.tokenize import word_tokenize\n",
    "from nltk.stem import PorterStemmer\n",
    "from nltk.corpus import stopwords\n",
    "import nltk\n",
    "nltk.download('stopwords')\n",
    "stop_words = set(stopwords.words('english'))\n",
    "from wordcloud import WordCloud\n",
    "from sklearn.feature_extraction.text import TfidfVectorizer\n",
    "from sklearn.model_selection import train_test_split"
   ]
  },
  {
   "cell_type": "code",
   "execution_count": 3,
   "id": "072de891",
   "metadata": {
    "execution": {
     "iopub.execute_input": "2024-06-18T18:30:32.398084Z",
     "iopub.status.busy": "2024-06-18T18:30:32.397486Z",
     "iopub.status.idle": "2024-06-18T18:30:32.403017Z",
     "shell.execute_reply": "2024-06-18T18:30:32.401655Z"
    },
    "papermill": {
     "duration": 0.014466,
     "end_time": "2024-06-18T18:30:32.405354",
     "exception": false,
     "start_time": "2024-06-18T18:30:32.390888",
     "status": "completed"
    },
    "tags": []
   },
   "outputs": [],
   "source": [
    "path_data=\"/kaggle/input/spam-sms-data/spam.csv\""
   ]
  },
  {
   "cell_type": "code",
   "execution_count": 4,
   "id": "64e65058",
   "metadata": {
    "execution": {
     "iopub.execute_input": "2024-06-18T18:30:32.418066Z",
     "iopub.status.busy": "2024-06-18T18:30:32.417655Z",
     "iopub.status.idle": "2024-06-18T18:30:32.471222Z",
     "shell.execute_reply": "2024-06-18T18:30:32.470057Z"
    },
    "papermill": {
     "duration": 0.062983,
     "end_time": "2024-06-18T18:30:32.473838",
     "exception": false,
     "start_time": "2024-06-18T18:30:32.410855",
     "status": "completed"
    },
    "tags": []
   },
   "outputs": [
    {
     "name": "stdout",
     "output_type": "stream",
     "text": [
      "     v1                                                 v2 Unnamed: 2  \\\n",
      "0   ham  Go until jurong point, crazy.. Available only ...        NaN   \n",
      "1   ham                      Ok lar... Joking wif u oni...        NaN   \n",
      "2  spam  Free entry in 2 a wkly comp to win FA Cup fina...        NaN   \n",
      "3   ham  U dun say so early hor... U c already then say...        NaN   \n",
      "4   ham  Nah I don't think he goes to usf, he lives aro...        NaN   \n",
      "5  spam  FreeMsg Hey there darling it's been 3 week's n...        NaN   \n",
      "6   ham  Even my brother is not like to speak with me. ...        NaN   \n",
      "7   ham  As per your request 'Melle Melle (Oru Minnamin...        NaN   \n",
      "8  spam  WINNER!! As a valued network customer you have...        NaN   \n",
      "9  spam  Had your mobile 11 months or more? U R entitle...        NaN   \n",
      "\n",
      "  Unnamed: 3 Unnamed: 4  \n",
      "0        NaN        NaN  \n",
      "1        NaN        NaN  \n",
      "2        NaN        NaN  \n",
      "3        NaN        NaN  \n",
      "4        NaN        NaN  \n",
      "5        NaN        NaN  \n",
      "6        NaN        NaN  \n",
      "7        NaN        NaN  \n",
      "8        NaN        NaN  \n",
      "9        NaN        NaN  \n"
     ]
    }
   ],
   "source": [
    "try:\n",
    "    df = pd.read_csv(path_data, encoding='Windows-1252')\n",
    "    print(df.head(10))\n",
    "except UnicodeDecodeError as e:\n",
    "    print(f\"UnicodeDecodeError: {e}\")"
   ]
  },
  {
   "cell_type": "code",
   "execution_count": 5,
   "id": "c8b01516",
   "metadata": {
    "execution": {
     "iopub.execute_input": "2024-06-18T18:30:32.486404Z",
     "iopub.status.busy": "2024-06-18T18:30:32.486023Z",
     "iopub.status.idle": "2024-06-18T18:30:32.496808Z",
     "shell.execute_reply": "2024-06-18T18:30:32.495701Z"
    },
    "papermill": {
     "duration": 0.019726,
     "end_time": "2024-06-18T18:30:32.499107",
     "exception": false,
     "start_time": "2024-06-18T18:30:32.479381",
     "status": "completed"
    },
    "tags": []
   },
   "outputs": [],
   "source": [
    "df = df.drop(columns=['Unnamed: 2', 'Unnamed: 3', 'Unnamed: 4'])"
   ]
  },
  {
   "cell_type": "code",
   "execution_count": 6,
   "id": "4dfb55e4",
   "metadata": {
    "execution": {
     "iopub.execute_input": "2024-06-18T18:30:32.512298Z",
     "iopub.status.busy": "2024-06-18T18:30:32.511869Z",
     "iopub.status.idle": "2024-06-18T18:30:32.520160Z",
     "shell.execute_reply": "2024-06-18T18:30:32.519102Z"
    },
    "papermill": {
     "duration": 0.018132,
     "end_time": "2024-06-18T18:30:32.522625",
     "exception": false,
     "start_time": "2024-06-18T18:30:32.504493",
     "status": "completed"
    },
    "tags": []
   },
   "outputs": [
    {
     "data": {
      "text/plain": [
       "(5572, 2)"
      ]
     },
     "execution_count": 6,
     "metadata": {},
     "output_type": "execute_result"
    }
   ],
   "source": [
    "df.shape"
   ]
  },
  {
   "cell_type": "code",
   "execution_count": 7,
   "id": "52c95a2c",
   "metadata": {
    "execution": {
     "iopub.execute_input": "2024-06-18T18:30:32.535606Z",
     "iopub.status.busy": "2024-06-18T18:30:32.535230Z",
     "iopub.status.idle": "2024-06-18T18:30:32.561205Z",
     "shell.execute_reply": "2024-06-18T18:30:32.560004Z"
    },
    "papermill": {
     "duration": 0.035478,
     "end_time": "2024-06-18T18:30:32.563865",
     "exception": false,
     "start_time": "2024-06-18T18:30:32.528387",
     "status": "completed"
    },
    "tags": []
   },
   "outputs": [
    {
     "name": "stdout",
     "output_type": "stream",
     "text": [
      "<class 'pandas.core.frame.DataFrame'>\n",
      "RangeIndex: 5572 entries, 0 to 5571\n",
      "Data columns (total 2 columns):\n",
      " #   Column  Non-Null Count  Dtype \n",
      "---  ------  --------------  ----- \n",
      " 0   v1      5572 non-null   object\n",
      " 1   v2      5572 non-null   object\n",
      "dtypes: object(2)\n",
      "memory usage: 87.2+ KB\n"
     ]
    }
   ],
   "source": [
    "df.info()"
   ]
  },
  {
   "cell_type": "code",
   "execution_count": 8,
   "id": "08e2dd5e",
   "metadata": {
    "execution": {
     "iopub.execute_input": "2024-06-18T18:30:32.577724Z",
     "iopub.status.busy": "2024-06-18T18:30:32.576680Z",
     "iopub.status.idle": "2024-06-18T18:30:32.879442Z",
     "shell.execute_reply": "2024-06-18T18:30:32.878274Z"
    },
    "papermill": {
     "duration": 0.312635,
     "end_time": "2024-06-18T18:30:32.882192",
     "exception": false,
     "start_time": "2024-06-18T18:30:32.569557",
     "status": "completed"
    },
    "tags": []
   },
   "outputs": [
    {
     "data": {
      "text/plain": [
       "Text(0.5, 1.0, 'Sms distribution')"
      ]
     },
     "execution_count": 8,
     "metadata": {},
     "output_type": "execute_result"
    },
    {
     "data": {
      "image/png": "[encoded data removed]",
      "text/plain": [
       "<Figure size 640x480 with 1 Axes>"
      ]
     },
     "metadata": {},
     "output_type": "display_data"
    }
   ],
   "source": [
    "sns.countplot(x='v1', data=df)\n",
    "plt.title(\"Sms distribution\")"
   ]
  },
  {
   "cell_type": "code",
   "execution_count": 9,
   "id": "cf2f02d8",
   "metadata": {
    "execution": {
     "iopub.execute_input": "2024-06-18T18:30:32.895930Z",
     "iopub.status.busy": "2024-06-18T18:30:32.895474Z",
     "iopub.status.idle": "2024-06-18T18:30:32.902549Z",
     "shell.execute_reply": "2024-06-18T18:30:32.901230Z"
    },
    "papermill": {
     "duration": 0.01696,
     "end_time": "2024-06-18T18:30:32.905183",
     "exception": false,
     "start_time": "2024-06-18T18:30:32.888223",
     "status": "completed"
    },
    "tags": []
   },
   "outputs": [],
   "source": [
    "def data_processing(text):\n",
    "    text= text.lower()\n",
    "    text = re.sub('<br />', '', text)\n",
    "    text = re.sub(r\"https\\S+|www\\S+|http\\S+\", '', text, flags = re.MULTILINE)\n",
    "    text = re.sub(r'\\@w+|\\#', '', text)\n",
    "    text = re.sub(r'[^\\w\\s]', '', text)\n",
    "    text_tokens = word_tokenize(text)\n",
    "    filtered_text = [w for w in text_tokens if not w in stop_words]\n",
    "    return \" \".join(filtered_text)"
   ]
  },
  {
   "cell_type": "code",
   "execution_count": 10,
   "id": "cd47a59e",
   "metadata": {
    "execution": {
     "iopub.execute_input": "2024-06-18T18:30:32.919715Z",
     "iopub.status.busy": "2024-06-18T18:30:32.919304Z",
     "iopub.status.idle": "2024-06-18T18:30:33.020293Z",
     "shell.execute_reply": "2024-06-18T18:30:33.018935Z"
    },
    "papermill": {
     "duration": 0.111504,
     "end_time": "2024-06-18T18:30:33.022753",
     "exception": false,
     "start_time": "2024-06-18T18:30:32.911249",
     "status": "completed"
    },
    "tags": []
   },
   "outputs": [
    {
     "name": "stdout",
     "output_type": "stream",
     "text": [
      "[nltk_data] Downloading package punkt to /usr/share/nltk_data...\n",
      "[nltk_data]   Package punkt is already up-to-date!\n"
     ]
    },
    {
     "data": {
      "text/plain": [
       "True"
      ]
     },
     "execution_count": 10,
     "metadata": {},
     "output_type": "execute_result"
    }
   ],
   "source": [
    "import nltk\n",
    "nltk.download('punkt')"
   ]
  },
  {
   "cell_type": "code",
   "execution_count": 11,
   "id": "845b1c1e",
   "metadata": {
    "execution": {
     "iopub.execute_input": "2024-06-18T18:30:33.037225Z",
     "iopub.status.busy": "2024-06-18T18:30:33.036799Z",
     "iopub.status.idle": "2024-06-18T18:30:33.827184Z",
     "shell.execute_reply": "2024-06-18T18:30:33.826035Z"
    },
    "papermill": {
     "duration": 0.800686,
     "end_time": "2024-06-18T18:30:33.829941",
     "exception": false,
     "start_time": "2024-06-18T18:30:33.029255",
     "status": "completed"
    },
    "tags": []
   },
   "outputs": [],
   "source": [
    "df.v2 = df['v2'].apply(data_processing)"
   ]
  },
  {
   "cell_type": "code",
   "execution_count": 12,
   "id": "1ccb1e75",
   "metadata": {
    "execution": {
     "iopub.execute_input": "2024-06-18T18:30:33.843993Z",
     "iopub.status.busy": "2024-06-18T18:30:33.843578Z",
     "iopub.status.idle": "2024-06-18T18:30:33.854112Z",
     "shell.execute_reply": "2024-06-18T18:30:33.852794Z"
    },
    "papermill": {
     "duration": 0.020643,
     "end_time": "2024-06-18T18:30:33.856769",
     "exception": false,
     "start_time": "2024-06-18T18:30:33.836126",
     "status": "completed"
    },
    "tags": []
   },
   "outputs": [
    {
     "name": "stdout",
     "output_type": "stream",
     "text": [
      "Number of duplicate entries:  459\n"
     ]
    }
   ],
   "source": [
    "duplicated_count = df.duplicated().sum()\n",
    "print(\"Number of duplicate entries: \", duplicated_count)"
   ]
  },
  {
   "cell_type": "code",
   "execution_count": 13,
   "id": "db2e0e3c",
   "metadata": {
    "execution": {
     "iopub.execute_input": "2024-06-18T18:30:33.872208Z",
     "iopub.status.busy": "2024-06-18T18:30:33.870662Z",
     "iopub.status.idle": "2024-06-18T18:30:33.880555Z",
     "shell.execute_reply": "2024-06-18T18:30:33.879276Z"
    },
    "papermill": {
     "duration": 0.020132,
     "end_time": "2024-06-18T18:30:33.883262",
     "exception": false,
     "start_time": "2024-06-18T18:30:33.863130",
     "status": "completed"
    },
    "tags": []
   },
   "outputs": [],
   "source": [
    "df = df.drop_duplicates()"
   ]
  },
  {
   "cell_type": "code",
   "execution_count": 14,
   "id": "ca01e2c4",
   "metadata": {
    "execution": {
     "iopub.execute_input": "2024-06-18T18:30:33.897532Z",
     "iopub.status.busy": "2024-06-18T18:30:33.897104Z",
     "iopub.status.idle": "2024-06-18T18:30:33.902959Z",
     "shell.execute_reply": "2024-06-18T18:30:33.901525Z"
    },
    "papermill": {
     "duration": 0.015648,
     "end_time": "2024-06-18T18:30:33.905333",
     "exception": false,
     "start_time": "2024-06-18T18:30:33.889685",
     "status": "completed"
    },
    "tags": []
   },
   "outputs": [],
   "source": [
    "stemmer = PorterStemmer()\n",
    "def stemming(data):\n",
    "    text = [stemmer.stem(word) for word in data]\n",
    "    return data"
   ]
  },
  {
   "cell_type": "code",
   "execution_count": 15,
   "id": "3f1ab03f",
   "metadata": {
    "execution": {
     "iopub.execute_input": "2024-06-18T18:30:33.919969Z",
     "iopub.status.busy": "2024-06-18T18:30:33.919554Z",
     "iopub.status.idle": "2024-06-18T18:30:34.078593Z",
     "shell.execute_reply": "2024-06-18T18:30:34.077558Z"
    },
    "papermill": {
     "duration": 0.169204,
     "end_time": "2024-06-18T18:30:34.081217",
     "exception": false,
     "start_time": "2024-06-18T18:30:33.912013",
     "status": "completed"
    },
    "tags": []
   },
   "outputs": [],
   "source": [
    "df.v2 = df['v2'].apply(lambda x: stemming(x))"
   ]
  },
  {
   "cell_type": "code",
   "execution_count": 16,
   "id": "4920e703",
   "metadata": {
    "execution": {
     "iopub.execute_input": "2024-06-18T18:30:34.095534Z",
     "iopub.status.busy": "2024-06-18T18:30:34.095032Z",
     "iopub.status.idle": "2024-06-18T18:30:34.104941Z",
     "shell.execute_reply": "2024-06-18T18:30:34.103896Z"
    },
    "papermill": {
     "duration": 0.01982,
     "end_time": "2024-06-18T18:30:34.107248",
     "exception": false,
     "start_time": "2024-06-18T18:30:34.087428",
     "status": "completed"
    },
    "tags": []
   },
   "outputs": [
    {
     "data": {
      "text/plain": [
       "0       go jurong point crazy available bugis n great ...\n",
       "1                                 ok lar joking wif u oni\n",
       "2       free entry 2 wkly comp win fa cup final tkts 2...\n",
       "3                     u dun say early hor u c already say\n",
       "4             nah dont think goes usf lives around though\n",
       "                              ...                        \n",
       "5567    2nd time tried 2 contact u u å750 pound prize ...\n",
       "5568                         ì_ b going esplanade fr home\n",
       "5569                          pity mood soany suggestions\n",
       "5570    guy bitching acted like id interested buying s...\n",
       "5571                                       rofl true name\n",
       "Name: v2, Length: 5113, dtype: object"
      ]
     },
     "execution_count": 16,
     "metadata": {},
     "output_type": "execute_result"
    }
   ],
   "source": [
    "df.v2"
   ]
  },
  {
   "cell_type": "code",
   "execution_count": 17,
   "id": "843461ac",
   "metadata": {
    "execution": {
     "iopub.execute_input": "2024-06-18T18:30:34.121953Z",
     "iopub.status.busy": "2024-06-18T18:30:34.121516Z",
     "iopub.status.idle": "2024-06-18T18:30:34.134466Z",
     "shell.execute_reply": "2024-06-18T18:30:34.133376Z"
    },
    "papermill": {
     "duration": 0.023167,
     "end_time": "2024-06-18T18:30:34.136917",
     "exception": false,
     "start_time": "2024-06-18T18:30:34.113750",
     "status": "completed"
    },
    "tags": []
   },
   "outputs": [
    {
     "data": {
      "text/html": [
       "<div>\n",
       "<style scoped>\n",
       "    .dataframe tbody tr th:only-of-type {\n",
       "        vertical-align: middle;\n",
       "    }\n",
       "\n",
       "    .dataframe tbody tr th {\n",
       "        vertical-align: top;\n",
       "    }\n",
       "\n",
       "    .dataframe thead th {\n",
       "        text-align: right;\n",
       "    }\n",
       "</style>\n",
       "<table border=\"1\" class=\"dataframe\">\n",
       "  <thead>\n",
       "    <tr style=\"text-align: right;\">\n",
       "      <th></th>\n",
       "      <th>v1</th>\n",
       "      <th>v2</th>\n",
       "    </tr>\n",
       "  </thead>\n",
       "  <tbody>\n",
       "    <tr>\n",
       "      <th>0</th>\n",
       "      <td>ham</td>\n",
       "      <td>go jurong point crazy available bugis n great ...</td>\n",
       "    </tr>\n",
       "    <tr>\n",
       "      <th>1</th>\n",
       "      <td>ham</td>\n",
       "      <td>ok lar joking wif u oni</td>\n",
       "    </tr>\n",
       "    <tr>\n",
       "      <th>2</th>\n",
       "      <td>spam</td>\n",
       "      <td>free entry 2 wkly comp win fa cup final tkts 2...</td>\n",
       "    </tr>\n",
       "    <tr>\n",
       "      <th>3</th>\n",
       "      <td>ham</td>\n",
       "      <td>u dun say early hor u c already say</td>\n",
       "    </tr>\n",
       "    <tr>\n",
       "      <th>4</th>\n",
       "      <td>ham</td>\n",
       "      <td>nah dont think goes usf lives around though</td>\n",
       "    </tr>\n",
       "  </tbody>\n",
       "</table>\n",
       "</div>"
      ],
      "text/plain": [
       "     v1                                                 v2\n",
       "0   ham  go jurong point crazy available bugis n great ...\n",
       "1   ham                            ok lar joking wif u oni\n",
       "2  spam  free entry 2 wkly comp win fa cup final tkts 2...\n",
       "3   ham                u dun say early hor u c already say\n",
       "4   ham        nah dont think goes usf lives around though"
      ]
     },
     "execution_count": 17,
     "metadata": {},
     "output_type": "execute_result"
    }
   ],
   "source": [
    "df.head()"
   ]
  },
  {
   "cell_type": "code",
   "execution_count": 18,
   "id": "3303d377",
   "metadata": {
    "execution": {
     "iopub.execute_input": "2024-06-18T18:30:34.151948Z",
     "iopub.status.busy": "2024-06-18T18:30:34.151518Z",
     "iopub.status.idle": "2024-06-18T18:30:34.164745Z",
     "shell.execute_reply": "2024-06-18T18:30:34.163517Z"
    },
    "papermill": {
     "duration": 0.023844,
     "end_time": "2024-06-18T18:30:34.167380",
     "exception": false,
     "start_time": "2024-06-18T18:30:34.143536",
     "status": "completed"
    },
    "tags": []
   },
   "outputs": [
    {
     "data": {
      "text/html": [
       "<div>\n",
       "<style scoped>\n",
       "    .dataframe tbody tr th:only-of-type {\n",
       "        vertical-align: middle;\n",
       "    }\n",
       "\n",
       "    .dataframe tbody tr th {\n",
       "        vertical-align: top;\n",
       "    }\n",
       "\n",
       "    .dataframe thead th {\n",
       "        text-align: right;\n",
       "    }\n",
       "</style>\n",
       "<table border=\"1\" class=\"dataframe\">\n",
       "  <thead>\n",
       "    <tr style=\"text-align: right;\">\n",
       "      <th></th>\n",
       "      <th>v1</th>\n",
       "      <th>v2</th>\n",
       "    </tr>\n",
       "  </thead>\n",
       "  <tbody>\n",
       "    <tr>\n",
       "      <th>0</th>\n",
       "      <td>ham</td>\n",
       "      <td>go jurong point crazy available bugis n great ...</td>\n",
       "    </tr>\n",
       "    <tr>\n",
       "      <th>1</th>\n",
       "      <td>ham</td>\n",
       "      <td>ok lar joking wif u oni</td>\n",
       "    </tr>\n",
       "    <tr>\n",
       "      <th>3</th>\n",
       "      <td>ham</td>\n",
       "      <td>u dun say early hor u c already say</td>\n",
       "    </tr>\n",
       "    <tr>\n",
       "      <th>4</th>\n",
       "      <td>ham</td>\n",
       "      <td>nah dont think goes usf lives around though</td>\n",
       "    </tr>\n",
       "    <tr>\n",
       "      <th>6</th>\n",
       "      <td>ham</td>\n",
       "      <td>even brother like speak treat like aids patent</td>\n",
       "    </tr>\n",
       "  </tbody>\n",
       "</table>\n",
       "</div>"
      ],
      "text/plain": [
       "    v1                                                 v2\n",
       "0  ham  go jurong point crazy available bugis n great ...\n",
       "1  ham                            ok lar joking wif u oni\n",
       "3  ham                u dun say early hor u c already say\n",
       "4  ham        nah dont think goes usf lives around though\n",
       "6  ham     even brother like speak treat like aids patent"
      ]
     },
     "execution_count": 18,
     "metadata": {},
     "output_type": "execute_result"
    }
   ],
   "source": [
    "right_sms =  df[df.v1 == 'ham']\n",
    "right_sms.head()"
   ]
  },
  {
   "cell_type": "code",
   "execution_count": 19,
   "id": "7397894e",
   "metadata": {
    "execution": {
     "iopub.execute_input": "2024-06-18T18:30:34.183963Z",
     "iopub.status.busy": "2024-06-18T18:30:34.182757Z",
     "iopub.status.idle": "2024-06-18T18:30:34.196193Z",
     "shell.execute_reply": "2024-06-18T18:30:34.195071Z"
    },
    "papermill": {
     "duration": 0.024691,
     "end_time": "2024-06-18T18:30:34.198871",
     "exception": false,
     "start_time": "2024-06-18T18:30:34.174180",
     "status": "completed"
    },
    "tags": []
   },
   "outputs": [
    {
     "data": {
      "text/html": [
       "<div>\n",
       "<style scoped>\n",
       "    .dataframe tbody tr th:only-of-type {\n",
       "        vertical-align: middle;\n",
       "    }\n",
       "\n",
       "    .dataframe tbody tr th {\n",
       "        vertical-align: top;\n",
       "    }\n",
       "\n",
       "    .dataframe thead th {\n",
       "        text-align: right;\n",
       "    }\n",
       "</style>\n",
       "<table border=\"1\" class=\"dataframe\">\n",
       "  <thead>\n",
       "    <tr style=\"text-align: right;\">\n",
       "      <th></th>\n",
       "      <th>v1</th>\n",
       "      <th>v2</th>\n",
       "    </tr>\n",
       "  </thead>\n",
       "  <tbody>\n",
       "    <tr>\n",
       "      <th>2</th>\n",
       "      <td>spam</td>\n",
       "      <td>free entry 2 wkly comp win fa cup final tkts 2...</td>\n",
       "    </tr>\n",
       "    <tr>\n",
       "      <th>5</th>\n",
       "      <td>spam</td>\n",
       "      <td>freemsg hey darling 3 weeks word back id like ...</td>\n",
       "    </tr>\n",
       "    <tr>\n",
       "      <th>8</th>\n",
       "      <td>spam</td>\n",
       "      <td>winner valued network customer selected receiv...</td>\n",
       "    </tr>\n",
       "    <tr>\n",
       "      <th>9</th>\n",
       "      <td>spam</td>\n",
       "      <td>mobile 11 months u r entitled update latest co...</td>\n",
       "    </tr>\n",
       "    <tr>\n",
       "      <th>11</th>\n",
       "      <td>spam</td>\n",
       "      <td>six chances win cash 100 20000 pounds txt csh1...</td>\n",
       "    </tr>\n",
       "  </tbody>\n",
       "</table>\n",
       "</div>"
      ],
      "text/plain": [
       "      v1                                                 v2\n",
       "2   spam  free entry 2 wkly comp win fa cup final tkts 2...\n",
       "5   spam  freemsg hey darling 3 weeks word back id like ...\n",
       "8   spam  winner valued network customer selected receiv...\n",
       "9   spam  mobile 11 months u r entitled update latest co...\n",
       "11  spam  six chances win cash 100 20000 pounds txt csh1..."
      ]
     },
     "execution_count": 19,
     "metadata": {},
     "output_type": "execute_result"
    }
   ],
   "source": [
    "spam_sms =  df[df.v1 == 'spam']\n",
    "spam_sms.head()"
   ]
  }
 ],
 "metadata": {
  "kaggle": {
   "accelerator": "none",
   "dataSources": [
    {
     "datasetId": 5234727,
     "sourceId": 8723145,
     "sourceType": "datasetVersion"
    }
   ],
   "dockerImageVersionId": 30732,
   "isGpuEnabled": false,
   "isInternetEnabled": true,
   "language": "python",
   "sourceType": "notebook"
  },
  "kernelspec": {
   "display_name": "Python 3",
   "language": "python",
   "name": "python3"
  },
  "language_info": {
   "codemirror_mode": {
    "name": "ipython",
    "version": 3
   },
   "file_extension": ".py",
   "mimetype": "text/x-python",
   "name": "python",
   "nbconvert_exporter": "python",
   "pygments_lexer": "ipython3",
   "version": "3.10.13"
  },
  "papermill": {
   "default_parameters": {},
   "duration": 10.133554,
   "end_time": "2024-06-18T18:30:35.029141",
   "environment_variables": {},
   "exception": null,
   "input_path": "__notebook__.ipynb",
   "output_path": "__notebook__.ipynb",
   "parameters": {},
   "start_time": "2024-06-18T18:30:24.895587",
   "version": "2.5.0"
  }
 },
 "nbformat": 4,
 "nbformat_minor": 5
}
